{
 "cells": [
  {
   "cell_type": "code",
   "execution_count": 1,
   "metadata": {},
   "outputs": [],
   "source": [
    "import re\n",
    "import time\n",
    "import requests\n",
    "import numpy as np\n",
    "import pandas as pd"
   ]
  },
  {
   "cell_type": "code",
   "execution_count": 2,
   "metadata": {},
   "outputs": [],
   "source": [
    "df = pd.read_csv('celebrity_net_worth.csv')"
   ]
  },
  {
   "cell_type": "code",
   "execution_count": 3,
   "metadata": {},
   "outputs": [],
   "source": [
    "df['Category'] = df.url.apply(lambda x: x.split('/')[4])\n",
    "df['Name_Surname'] = df.url.apply(lambda x: x.split('/')[5].replace('-net-worth', '').replace('-', '_').strip())"
   ]
  },
  {
   "cell_type": "code",
   "execution_count": 4,
   "metadata": {},
   "outputs": [],
   "source": [
    "del(df['Unnamed: 0'])\n",
    "del(df['Last Updated:'])\n",
    "del(df['Unnamed: 0.1'])\n",
    "del(df['url'])"
   ]
  },
  {
   "cell_type": "code",
   "execution_count": 5,
   "metadata": {},
   "outputs": [],
   "source": [
    "df.columns = [col.replace(\" \", \"_\").replace(\":\", \"\") for col in df.columns] "
   ]
  },
  {
   "cell_type": "code",
   "execution_count": 6,
   "metadata": {},
   "outputs": [
    {
     "data": {
      "text/plain": [
       "(12938, 9)"
      ]
     },
     "execution_count": 6,
     "metadata": {},
     "output_type": "execute_result"
    }
   ],
   "source": [
    "df.shape"
   ]
  },
  {
   "cell_type": "code",
   "execution_count": 7,
   "metadata": {},
   "outputs": [
    {
     "data": {
      "text/plain": [
       "Net_Worth           16\n",
       "Date_of_Birth     1483\n",
       "Gender            1153\n",
       "Height            5881\n",
       "Profession        1392\n",
       "Nationality       1550\n",
       "Salary           12496\n",
       "Category             0\n",
       "Name_Surname         0\n",
       "dtype: int64"
      ]
     },
     "execution_count": 7,
     "metadata": {},
     "output_type": "execute_result"
    }
   ],
   "source": [
    "df.isna().sum()"
   ]
  },
  {
   "cell_type": "code",
   "execution_count": 8,
   "metadata": {},
   "outputs": [],
   "source": [
    "df = df.set_index(['Name_Surname'])"
   ]
  },
  {
   "cell_type": "markdown",
   "metadata": {},
   "source": [
    "# Net Worth"
   ]
  },
  {
   "cell_type": "code",
   "execution_count": 9,
   "metadata": {},
   "outputs": [],
   "source": [
    "df.Net_Worth = df.Net_Worth.astype('str')"
   ]
  },
  {
   "cell_type": "code",
   "execution_count": 10,
   "metadata": {},
   "outputs": [],
   "source": [
    "worths = []\n",
    "for x in df.Net_Worth:\n",
    "    try:\n",
    "        w = int(re.findall('\\d+', x.replace(\" \", \"\").replace(\"sand\", \"000\").replace(\"Mil\", \"000000\").replace('Bil', '000000000'))[0])\n",
    "    except:\n",
    "        w = np.nan\n",
    "    worths.append(w)\n",
    "\n",
    "df.Net_Worth = worths"
   ]
  },
  {
   "cell_type": "markdown",
   "metadata": {},
   "source": [
    "# Height"
   ]
  },
  {
   "cell_type": "code",
   "execution_count": 11,
   "metadata": {},
   "outputs": [],
   "source": [
    "heights = []\n",
    "for x in df.Height:\n",
    "    try:\n",
    "        h = float(re.findall('\\(\\d\\.*\\d*', x)[0][1:])\n",
    "    except:\n",
    "        h = np.nan\n",
    "    heights.append(h)\n",
    "\n",
    "df.Height = heights"
   ]
  },
  {
   "cell_type": "markdown",
   "metadata": {},
   "source": [
    "# AGE"
   ]
  },
  {
   "cell_type": "code",
   "execution_count": 12,
   "metadata": {},
   "outputs": [],
   "source": [
    "ages = []\n",
    "for x in df.Date_of_Birth:\n",
    "    try:\n",
    "        if len(re.findall('\\(\\d*', x))>0:\n",
    "            a = int(re.findall('\\(\\d*', x)[0][1:])\n",
    "        else:\n",
    "            a = np.nan\n",
    "    except:\n",
    "        a = np.nan\n",
    "    ages.append(a)"
   ]
  },
  {
   "cell_type": "code",
   "execution_count": 13,
   "metadata": {},
   "outputs": [],
   "source": [
    "df['Age'] = ages"
   ]
  },
  {
   "cell_type": "markdown",
   "metadata": {},
   "source": [
    "## Alive/Dead"
   ]
  },
  {
   "cell_type": "code",
   "execution_count": 14,
   "metadata": {},
   "outputs": [],
   "source": [
    "ad = []\n",
    "for x in df.Date_of_Birth:\n",
    "    try:\n",
    "        if len(re.findall('\\w+ \\d*, \\d\\d\\d\\d', x)) > 0:\n",
    "            d = re.findall('\\w+ \\d*, \\d\\d\\d\\d', x)[0].replace(',', '')\n",
    "        else:\n",
    "            d = np.nan\n",
    "    except:\n",
    "        d = np.nan\n",
    "    ad.append(d)"
   ]
  },
  {
   "cell_type": "code",
   "execution_count": 15,
   "metadata": {},
   "outputs": [],
   "source": [
    "df['Alive'] = ad"
   ]
  },
  {
   "cell_type": "markdown",
   "metadata": {},
   "source": [
    "## BirthDate"
   ]
  },
  {
   "cell_type": "code",
   "execution_count": 16,
   "metadata": {},
   "outputs": [],
   "source": [
    "dates = []\n",
    "for x in df.Date_of_Birth:\n",
    "    try:\n",
    "        if len(re.findall('\\w+ \\d+, \\d\\d\\d\\d', x))>0:\n",
    "            a = re.findall('\\w+ \\d+, \\d\\d\\d\\d', x)[0].replace(',', '')\n",
    "        else:\n",
    "            a = np.nan\n",
    "    except:\n",
    "        a = np.nan\n",
    "    dates.append(a)"
   ]
  },
  {
   "cell_type": "code",
   "execution_count": 17,
   "metadata": {},
   "outputs": [],
   "source": [
    "df.Date_of_Birth = dates"
   ]
  },
  {
   "cell_type": "markdown",
   "metadata": {},
   "source": [
    "## Zodiac Sign"
   ]
  },
  {
   "cell_type": "code",
   "execution_count": 18,
   "metadata": {},
   "outputs": [],
   "source": [
    "def zodiac_sign(month, day): \n",
    "      \n",
    "    # checks month and date within the valid range of a specified zodiac \n",
    "    \n",
    "    if month == 'Dec': \n",
    "        astro_sign = 'Sagittarius' if (day < 22) else 'Capricorn'\n",
    "    elif month == 'Jan': \n",
    "        astro_sign = 'Capricorn' if (day < 20) else 'Aquarius'\n",
    "    elif month == 'Feb': \n",
    "        astro_sign = 'Aquarius' if (day < 19) else 'Pisces'\n",
    "    elif month == 'Mar': \n",
    "        astro_sign = 'Pisces' if (day < 21) else 'Aries'\n",
    "    elif month == 'Apr': \n",
    "        astro_sign = 'Aries' if (day < 20) else 'Taurus'\n",
    "    elif month == 'May': \n",
    "        astro_sign = 'Taurus' if (day < 21) else 'Gemini'\n",
    "    elif month == 'Jun': \n",
    "        astro_sign = 'Gemini' if (day < 21) else 'Cancer'\n",
    "    elif month == 'Jul': \n",
    "        astro_sign = 'Cancer' if (day < 23) else 'Leo'\n",
    "    elif month == 'Aug': \n",
    "        astro_sign = 'Leo' if (day < 23) else 'Virgo'\n",
    "    elif month == 'Sep': \n",
    "        astro_sign = 'Virgo' if (day < 23) else 'Libra'\n",
    "    elif month == 'Oct': \n",
    "        astro_sign = 'Libra' if (day < 23) else 'Scorpio'\n",
    "    elif month == 'Nov': \n",
    "        astro_sign = 'Scorpio' if (day < 22) else 'Sagittarius'\n",
    "\n",
    "    return astro_sign"
   ]
  },
  {
   "cell_type": "code",
   "execution_count": 19,
   "metadata": {},
   "outputs": [],
   "source": [
    "signs = []\n",
    "for x in df.Date_of_Birth:\n",
    "    try:\n",
    "        x = zodiac_sign(x.split(' ')[0], int(x.split(' ')[1]))\n",
    "    except:\n",
    "        x = np.nan\n",
    "    signs.append(x)"
   ]
  },
  {
   "cell_type": "code",
   "execution_count": 20,
   "metadata": {},
   "outputs": [],
   "source": [
    "df['Zodiac_Sign'] = signs"
   ]
  },
  {
   "cell_type": "markdown",
   "metadata": {},
   "source": [
    "# Salary"
   ]
  },
  {
   "cell_type": "code",
   "execution_count": 21,
   "metadata": {},
   "outputs": [],
   "source": [
    "sal = []\n",
    "for x in df.Salary:\n",
    "    try:\n",
    "        s = int(re.findall('\\d+', x.replace(\" \", \"\").replace(\"Thousand\", \"000\").replace(\"Mil\", \"000000\"))[0])\n",
    "    except:\n",
    "        s = np.nan\n",
    "    sal.append(s)"
   ]
  },
  {
   "cell_type": "code",
   "execution_count": 22,
   "metadata": {},
   "outputs": [],
   "source": [
    "df.Salary = sal"
   ]
  },
  {
   "cell_type": "markdown",
   "metadata": {},
   "source": [
    "# Summin up.."
   ]
  },
  {
   "cell_type": "code",
   "execution_count": 23,
   "metadata": {},
   "outputs": [
    {
     "data": {
      "text/plain": [
       "Net_Worth           16\n",
       "Date_of_Birth     2285\n",
       "Gender            1153\n",
       "Height            5881\n",
       "Profession        1392\n",
       "Nationality       1550\n",
       "Salary           12496\n",
       "Category             0\n",
       "Age               2269\n",
       "Alive             2285\n",
       "Zodiac_Sign       2285\n",
       "dtype: int64"
      ]
     },
     "execution_count": 23,
     "metadata": {},
     "output_type": "execute_result"
    }
   ],
   "source": [
    "df.isna().sum()"
   ]
  },
  {
   "cell_type": "code",
   "execution_count": 24,
   "metadata": {},
   "outputs": [
    {
     "data": {
      "text/plain": [
       "(309, 11)"
      ]
     },
     "execution_count": 24,
     "metadata": {},
     "output_type": "execute_result"
    }
   ],
   "source": [
    "df.dropna().shape"
   ]
  },
  {
   "cell_type": "code",
   "execution_count": 25,
   "metadata": {},
   "outputs": [
    {
     "data": {
      "text/plain": [
       "(12938, 11)"
      ]
     },
     "execution_count": 25,
     "metadata": {},
     "output_type": "execute_result"
    }
   ],
   "source": [
    "df.shape"
   ]
  },
  {
   "cell_type": "code",
   "execution_count": 26,
   "metadata": {},
   "outputs": [],
   "source": [
    "df.to_csv('celebrity_cleaned.csv')"
   ]
  },
  {
   "cell_type": "code",
   "execution_count": null,
   "metadata": {},
   "outputs": [],
   "source": []
  }
 ],
 "metadata": {
  "kernelspec": {
   "display_name": "Python 3",
   "language": "python",
   "name": "python3"
  },
  "language_info": {
   "codemirror_mode": {
    "name": "ipython",
    "version": 3
   },
   "file_extension": ".py",
   "mimetype": "text/x-python",
   "name": "python",
   "nbconvert_exporter": "python",
   "pygments_lexer": "ipython3",
   "version": "3.7.3"
  }
 },
 "nbformat": 4,
 "nbformat_minor": 2
}
