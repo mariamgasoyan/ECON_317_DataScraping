{
 "cells": [
  {
   "cell_type": "code",
   "execution_count": 1,
   "metadata": {},
   "outputs": [],
   "source": [
    "# import wikipedia\n",
    "# import re\n",
    "# import time\n",
    "# import requests\n",
    "# import numpy as np\n",
    "# import pandas as pd\n",
    "# from textblob import TextBlob, Word\n",
    "# from scrapy.http import TextResponse\n",
    "# import nltk\n",
    "# from nltk.corpus import stopwords, wordnet\n",
    "# from nltk.tokenize import sent_tokenize, word_tokenize\n",
    "# from nltk.stem import PorterStemmer, WordNetLemmatizer\n",
    "# from sklearn.feature_extraction.text import TfidfVectorizer\n",
    "# from selenium import webdriver\n",
    "# import selenium.webdriver.common.keys as Keys"
   ]
  },
  {
   "cell_type": "code",
   "execution_count": 38,
   "metadata": {},
   "outputs": [],
   "source": [
    "from scrapy.http import TextResponse\n",
    "import re\n",
    "import time\n",
    "import requests\n",
    "import numpy as np\n",
    "import pandas as pd\n",
    "from datetime import datetime"
   ]
  },
  {
   "cell_type": "code",
   "execution_count": 74,
   "metadata": {},
   "outputs": [],
   "source": [
    "urls = ['https://www.celebritynetworth.com/richest-businessmen/ceos/mark-zuckerberg-net-worth/', \n",
    "        'https://www.celebritynetworth.com/richest-businessmen/richest-billionaires/jeffrey-epstein-net-worth/', \n",
    "        'https://www.celebritynetworth.com/richest-celebrities/models/drita-davanzo-net-worth/', \n",
    "        'https://www.celebritynetworth.com/richest-politicians/presidents/barack-obama-net-worth/',\n",
    "        'https://www.celebritynetworth.com/richest-athletes/richest-baseball/curt-schilling-net-worth/',\n",
    "        'https://www.celebritynetworth.com/richest-politicians/royals/queen-elizabeth-of-england-net-worth/',\n",
    "        'https://www.celebritynetworth.com/richest-politicians/sheiks/sheikh-of-qatar-net-worth/',\n",
    "        'https://www.celebritynetworth.com/richest-celebrities/richest-rappers/jay-z-net-worth/',\n",
    "        'https://www.celebritynetworth.com/richest-athletes/skateboarders/rob-dyrdek-net-worth/',\n",
    "        'https://www.celebritynetworth.com/richest-businessmen/producers/chris-evans-net-worth-2/']"
   ]
  },
  {
   "cell_type": "code",
   "execution_count": 75,
   "metadata": {},
   "outputs": [],
   "source": [
    "def into_df(url):\n",
    "    response = requests.get(url)\n",
    "    response = TextResponse(url = response.url, body = response.text, encoding = \"utf-8\")\n",
    "    df = pd.read_html(url)[0].transpose()\n",
    "    df.columns = df.iloc[0,:]\n",
    "    df = df.iloc[1:,:]\n",
    "    df['Category'] = url.split('/')[3][8:]\n",
    "    df['Subcategory'] = url.split('/')[4]\n",
    "    df['Name_Surname'] = url.split('/')[5].replace('net-worth', '').replace('-', ' ').strip()\n",
    "    return df"
   ]
  },
  {
   "cell_type": "code",
   "execution_count": 122,
   "metadata": {},
   "outputs": [],
   "source": [
    "dfs = [into_df(url) for url in urls]"
   ]
  },
  {
   "cell_type": "code",
   "execution_count": 123,
   "metadata": {},
   "outputs": [],
   "source": [
    "df = pd.concat(dfs, sort=False)"
   ]
  },
  {
   "cell_type": "code",
   "execution_count": 124,
   "metadata": {},
   "outputs": [],
   "source": [
    "df = df.set_index(['Category', 'Subcategory', 'Name_Surname'])"
   ]
  },
  {
   "cell_type": "code",
   "execution_count": 125,
   "metadata": {},
   "outputs": [],
   "source": [
    "del(df['Last Updated:'])"
   ]
  },
  {
   "cell_type": "code",
   "execution_count": 126,
   "metadata": {},
   "outputs": [],
   "source": [
    "df.columns = [col.replace(\" \", \"_\").replace(\":\", \"\") for col in df.columns] "
   ]
  },
  {
   "cell_type": "markdown",
   "metadata": {},
   "source": [
    "## Net Worth"
   ]
  },
  {
   "cell_type": "code",
   "execution_count": 127,
   "metadata": {},
   "outputs": [],
   "source": [
    "df.Net_Worth = df.Net_Worth.apply(lambda x: int(x.replace(\"$\", \"\").replace(\" Million\", \"\").replace(\" Billion\", \"000\")))"
   ]
  },
  {
   "cell_type": "code",
   "execution_count": 128,
   "metadata": {},
   "outputs": [],
   "source": [
    "df = df.rename(columns={'Net_Worth': 'Net_Worth_M'})"
   ]
  },
  {
   "cell_type": "markdown",
   "metadata": {},
   "source": [
    "## Salary"
   ]
  },
  {
   "cell_type": "code",
   "execution_count": 129,
   "metadata": {},
   "outputs": [],
   "source": [
    "#df.Salary = df.Salary.fillna('0')"
   ]
  },
  {
   "cell_type": "code",
   "execution_count": 130,
   "metadata": {},
   "outputs": [],
   "source": [
    "df.Salary = df.Salary.apply(lambda x: int(x.replace(\"$\", \"\").replace('Dollar Per Year', '').replace(\" \", \"\").replace(\"Thousand\", \"000\").replace(\"Million\", \"000000\")))"
   ]
  },
  {
   "cell_type": "markdown",
   "metadata": {},
   "source": [
    "## Height"
   ]
  },
  {
   "cell_type": "code",
   "execution_count": 131,
   "metadata": {},
   "outputs": [],
   "source": [
    "df.Height = df.Height.fillna('0.00')"
   ]
  },
  {
   "cell_type": "code",
   "execution_count": 132,
   "metadata": {},
   "outputs": [],
   "source": [
    "df.Height = df.Height.apply(lambda x: round(float(re.findall('\\d\\.\\d+', x)[0]), 2))"
   ]
  },
  {
   "cell_type": "markdown",
   "metadata": {},
   "source": [
    "## Age"
   ]
  },
  {
   "cell_type": "code",
   "execution_count": 92,
   "metadata": {},
   "outputs": [],
   "source": [
    "#df.Date_of_Birth = df.Date_of_Birth.fillna('(00')"
   ]
  },
  {
   "cell_type": "code",
   "execution_count": 93,
   "metadata": {},
   "outputs": [],
   "source": [
    "df['Age'] = df.Date_of_Birth.apply(lambda x: int(re.findall('\\(\\d*', x)[0][1:]))   "
   ]
  },
  {
   "cell_type": "code",
   "execution_count": 134,
   "metadata": {},
   "outputs": [],
   "source": [
    "#df.Date_of_Birth.apply(lambda x: re.findall('\\w+ \\d\\d, \\d\\d\\d\\d', x)[0])"
   ]
  },
  {
   "cell_type": "code",
   "execution_count": 133,
   "metadata": {},
   "outputs": [
    {
     "data": {
      "text/html": [
       "<div>\n",
       "<style scoped>\n",
       "    .dataframe tbody tr th:only-of-type {\n",
       "        vertical-align: middle;\n",
       "    }\n",
       "\n",
       "    .dataframe tbody tr th {\n",
       "        vertical-align: top;\n",
       "    }\n",
       "\n",
       "    .dataframe thead th {\n",
       "        text-align: right;\n",
       "    }\n",
       "</style>\n",
       "<table border=\"1\" class=\"dataframe\">\n",
       "  <thead>\n",
       "    <tr style=\"text-align: right;\">\n",
       "      <th></th>\n",
       "      <th></th>\n",
       "      <th></th>\n",
       "      <th>Net_Worth_M</th>\n",
       "      <th>Salary</th>\n",
       "      <th>Date_of_Birth</th>\n",
       "      <th>Gender</th>\n",
       "      <th>Height</th>\n",
       "      <th>Profession</th>\n",
       "      <th>Nationality</th>\n",
       "    </tr>\n",
       "    <tr>\n",
       "      <th>Category</th>\n",
       "      <th>Subcategory</th>\n",
       "      <th>Name_Surname</th>\n",
       "      <th></th>\n",
       "      <th></th>\n",
       "      <th></th>\n",
       "      <th></th>\n",
       "      <th></th>\n",
       "      <th></th>\n",
       "      <th></th>\n",
       "    </tr>\n",
       "  </thead>\n",
       "  <tbody>\n",
       "    <tr>\n",
       "      <th rowspan=\"2\" valign=\"top\">businessmen</th>\n",
       "      <th>ceos</th>\n",
       "      <th>mark zuckerberg</th>\n",
       "      <td>50000</td>\n",
       "      <td>1</td>\n",
       "      <td>May 14, 1984 (35 years old)</td>\n",
       "      <td>Male</td>\n",
       "      <td>1.75</td>\n",
       "      <td>Programmer, Entrepreneur, Businessperson</td>\n",
       "      <td>United States of America</td>\n",
       "    </tr>\n",
       "    <tr>\n",
       "      <th>richest-billionaires</th>\n",
       "      <th>jeffrey epstein</th>\n",
       "      <td>500</td>\n",
       "      <td>0</td>\n",
       "      <td>Jan 20, 1953 - Aug 10, 2019 (66 years old)</td>\n",
       "      <td>Male</td>\n",
       "      <td>0.00</td>\n",
       "      <td>Businessperson, Financier, Investor</td>\n",
       "      <td>United States of America</td>\n",
       "    </tr>\n",
       "    <tr>\n",
       "      <th>celebrities</th>\n",
       "      <th>models</th>\n",
       "      <th>drita davanzo</th>\n",
       "      <td>3</td>\n",
       "      <td>0</td>\n",
       "      <td>NaN</td>\n",
       "      <td>Female</td>\n",
       "      <td>0.00</td>\n",
       "      <td>NaN</td>\n",
       "      <td>NaN</td>\n",
       "    </tr>\n",
       "    <tr>\n",
       "      <th>politicians</th>\n",
       "      <th>presidents</th>\n",
       "      <th>barack obama</th>\n",
       "      <td>40</td>\n",
       "      <td>400000</td>\n",
       "      <td>Aug 4, 1961 (58 years old)</td>\n",
       "      <td>Male</td>\n",
       "      <td>1.85</td>\n",
       "      <td>Politician, Lawyer, Writer, Author, Law professor</td>\n",
       "      <td>United States of America</td>\n",
       "    </tr>\n",
       "    <tr>\n",
       "      <th>athletes</th>\n",
       "      <th>richest-baseball</th>\n",
       "      <th>curt schilling</th>\n",
       "      <td>1</td>\n",
       "      <td>0</td>\n",
       "      <td>Nov 14, 1966 (52 years old)</td>\n",
       "      <td>Male</td>\n",
       "      <td>1.93</td>\n",
       "      <td>Baseball player</td>\n",
       "      <td>United States of America</td>\n",
       "    </tr>\n",
       "    <tr>\n",
       "      <th rowspan=\"2\" valign=\"top\">politicians</th>\n",
       "      <th>royals</th>\n",
       "      <th>queen elizabeth of england</th>\n",
       "      <td>600</td>\n",
       "      <td>0</td>\n",
       "      <td>Apr 21, 1926 (93 years old)</td>\n",
       "      <td>Female</td>\n",
       "      <td>1.63</td>\n",
       "      <td>NaN</td>\n",
       "      <td>United Kingdom</td>\n",
       "    </tr>\n",
       "    <tr>\n",
       "      <th>sheiks</th>\n",
       "      <th>sheikh of qatar</th>\n",
       "      <td>2000</td>\n",
       "      <td>0</td>\n",
       "      <td>Jan 1, 1952 (67 years old)</td>\n",
       "      <td>Male</td>\n",
       "      <td>0.00</td>\n",
       "      <td>Politician</td>\n",
       "      <td>Qatar</td>\n",
       "    </tr>\n",
       "    <tr>\n",
       "      <th>celebrities</th>\n",
       "      <th>richest-rappers</th>\n",
       "      <th>jay z</th>\n",
       "      <td>1000</td>\n",
       "      <td>0</td>\n",
       "      <td>Dec 4, 1969 (49 years old)</td>\n",
       "      <td>Male</td>\n",
       "      <td>1.87</td>\n",
       "      <td>Singer, Songwriter, Record producer, Entrepren...</td>\n",
       "      <td>United States of America</td>\n",
       "    </tr>\n",
       "    <tr>\n",
       "      <th>athletes</th>\n",
       "      <th>skateboarders</th>\n",
       "      <th>rob dyrdek</th>\n",
       "      <td>50</td>\n",
       "      <td>0</td>\n",
       "      <td>Jun 28, 1974 (45 years old)</td>\n",
       "      <td>Male</td>\n",
       "      <td>1.70</td>\n",
       "      <td>Skateboarder, Television producer, Screenwrite...</td>\n",
       "      <td>United States of America</td>\n",
       "    </tr>\n",
       "    <tr>\n",
       "      <th>businessmen</th>\n",
       "      <th>producers</th>\n",
       "      <th>chris evans  2</th>\n",
       "      <td>120</td>\n",
       "      <td>0</td>\n",
       "      <td>Apr 1, 1966 (53 years old)</td>\n",
       "      <td>Male</td>\n",
       "      <td>1.88</td>\n",
       "      <td>Television Producer, Radio producer, Radio per...</td>\n",
       "      <td>England</td>\n",
       "    </tr>\n",
       "  </tbody>\n",
       "</table>\n",
       "</div>"
      ],
      "text/plain": [
       "                                                             Net_Worth_M  \\\n",
       "Category    Subcategory          Name_Surname                              \n",
       "businessmen ceos                 mark zuckerberg                   50000   \n",
       "            richest-billionaires jeffrey epstein                     500   \n",
       "celebrities models               drita davanzo                         3   \n",
       "politicians presidents           barack obama                         40   \n",
       "athletes    richest-baseball     curt schilling                        1   \n",
       "politicians royals               queen elizabeth of england          600   \n",
       "            sheiks               sheikh of qatar                    2000   \n",
       "celebrities richest-rappers      jay z                              1000   \n",
       "athletes    skateboarders        rob dyrdek                           50   \n",
       "businessmen producers            chris evans  2                      120   \n",
       "\n",
       "                                                             Salary  \\\n",
       "Category    Subcategory          Name_Surname                         \n",
       "businessmen ceos                 mark zuckerberg                  1   \n",
       "            richest-billionaires jeffrey epstein                  0   \n",
       "celebrities models               drita davanzo                    0   \n",
       "politicians presidents           barack obama                400000   \n",
       "athletes    richest-baseball     curt schilling                   0   \n",
       "politicians royals               queen elizabeth of england       0   \n",
       "            sheiks               sheikh of qatar                  0   \n",
       "celebrities richest-rappers      jay z                            0   \n",
       "athletes    skateboarders        rob dyrdek                       0   \n",
       "businessmen producers            chris evans  2                   0   \n",
       "\n",
       "                                                                                          Date_of_Birth  \\\n",
       "Category    Subcategory          Name_Surname                                                             \n",
       "businessmen ceos                 mark zuckerberg                            May 14, 1984 (35 years old)   \n",
       "            richest-billionaires jeffrey epstein             Jan 20, 1953 - Aug 10, 2019 (66 years old)   \n",
       "celebrities models               drita davanzo                                                      NaN   \n",
       "politicians presidents           barack obama                                Aug 4, 1961 (58 years old)   \n",
       "athletes    richest-baseball     curt schilling                             Nov 14, 1966 (52 years old)   \n",
       "politicians royals               queen elizabeth of england                 Apr 21, 1926 (93 years old)   \n",
       "            sheiks               sheikh of qatar                             Jan 1, 1952 (67 years old)   \n",
       "celebrities richest-rappers      jay z                                       Dec 4, 1969 (49 years old)   \n",
       "athletes    skateboarders        rob dyrdek                                 Jun 28, 1974 (45 years old)   \n",
       "businessmen producers            chris evans  2                              Apr 1, 1966 (53 years old)   \n",
       "\n",
       "                                                             Gender  Height  \\\n",
       "Category    Subcategory          Name_Surname                                 \n",
       "businessmen ceos                 mark zuckerberg               Male    1.75   \n",
       "            richest-billionaires jeffrey epstein               Male    0.00   \n",
       "celebrities models               drita davanzo               Female    0.00   \n",
       "politicians presidents           barack obama                  Male    1.85   \n",
       "athletes    richest-baseball     curt schilling                Male    1.93   \n",
       "politicians royals               queen elizabeth of england  Female    1.63   \n",
       "            sheiks               sheikh of qatar               Male    0.00   \n",
       "celebrities richest-rappers      jay z                         Male    1.87   \n",
       "athletes    skateboarders        rob dyrdek                    Male    1.70   \n",
       "businessmen producers            chris evans  2                Male    1.88   \n",
       "\n",
       "                                                                                                    Profession  \\\n",
       "Category    Subcategory          Name_Surname                                                                    \n",
       "businessmen ceos                 mark zuckerberg                      Programmer, Entrepreneur, Businessperson   \n",
       "            richest-billionaires jeffrey epstein                           Businessperson, Financier, Investor   \n",
       "celebrities models               drita davanzo                                                             NaN   \n",
       "politicians presidents           barack obama                Politician, Lawyer, Writer, Author, Law professor   \n",
       "athletes    richest-baseball     curt schilling                                                Baseball player   \n",
       "politicians royals               queen elizabeth of england                                                NaN   \n",
       "            sheiks               sheikh of qatar                                                    Politician   \n",
       "celebrities richest-rappers      jay z                       Singer, Songwriter, Record producer, Entrepren...   \n",
       "athletes    skateboarders        rob dyrdek                  Skateboarder, Television producer, Screenwrite...   \n",
       "businessmen producers            chris evans  2              Television Producer, Radio producer, Radio per...   \n",
       "\n",
       "                                                                          Nationality  \n",
       "Category    Subcategory          Name_Surname                                          \n",
       "businessmen ceos                 mark zuckerberg             United States of America  \n",
       "            richest-billionaires jeffrey epstein             United States of America  \n",
       "celebrities models               drita davanzo                                    NaN  \n",
       "politicians presidents           barack obama                United States of America  \n",
       "athletes    richest-baseball     curt schilling              United States of America  \n",
       "politicians royals               queen elizabeth of england            United Kingdom  \n",
       "            sheiks               sheikh of qatar                                Qatar  \n",
       "celebrities richest-rappers      jay z                       United States of America  \n",
       "athletes    skateboarders        rob dyrdek                  United States of America  \n",
       "businessmen producers            chris evans  2                               England  "
      ]
     },
     "execution_count": 133,
     "metadata": {},
     "output_type": "execute_result"
    }
   ],
   "source": [
    "df"
   ]
  }
 ],
 "metadata": {
  "kernelspec": {
   "display_name": "Python 3",
   "language": "python",
   "name": "python3"
  },
  "language_info": {
   "codemirror_mode": {
    "name": "ipython",
    "version": 3
   },
   "file_extension": ".py",
   "mimetype": "text/x-python",
   "name": "python",
   "nbconvert_exporter": "python",
   "pygments_lexer": "ipython3",
   "version": "3.7.3"
  }
 },
 "nbformat": 4,
 "nbformat_minor": 2
}
