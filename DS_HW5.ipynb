{
 "cells": [
  {
   "cell_type": "markdown",
   "metadata": {},
   "source": [
    "### Mariam Gasoyan\n",
    "# Homework 5"
   ]
  },
  {
   "cell_type": "code",
   "execution_count": 1,
   "metadata": {},
   "outputs": [],
   "source": [
    "import pandas as pd\n",
    "from selenium import webdriver\n",
    "import time\n",
    "import requests\n",
    "from collections import Counter\n",
    "from scrapy.http import TextResponse\n",
    "import re"
   ]
  },
  {
   "cell_type": "markdown",
   "metadata": {},
   "source": [
    "### 1) Info on top taxpayers in provided on https://www.harkatu.am/ in a JavaScript generated table."
   ]
  },
  {
   "cell_type": "markdown",
   "metadata": {},
   "source": [
    "#### a) scrape the paid taxes, organization name and industry for top 200 taxpayers (last Quarter) ."
   ]
  },
  {
   "cell_type": "code",
   "execution_count": 2,
   "metadata": {},
   "outputs": [],
   "source": [
    "url = 'https://www.harkatu.am/companies/hy?1'"
   ]
  },
  {
   "cell_type": "code",
   "execution_count": 3,
   "metadata": {},
   "outputs": [],
   "source": [
    "ratings_200 = []\n",
    "companies_200 = []\n",
    "industry_200 = []\n",
    "sales_200 = []"
   ]
  },
  {
   "cell_type": "code",
   "execution_count": 4,
   "metadata": {},
   "outputs": [],
   "source": [
    "browser = webdriver.Chrome()\n",
    "\n",
    "while len(ratings_200) < 200:\n",
    "    browser.get(url)\n",
    "    time.sleep(3)\n",
    "    page = browser.page_source\n",
    "    response = TextResponse(url=url,body=page,encoding=\"utf-8\")\n",
    "    companies = response.xpath('//div[@class=\"itemname\"]/h1/a/span/text()').extract()\n",
    "    companies_200.extend(companies)\n",
    "    industry = response.xpath('//div[@class=\"industry\"]/text()').extract()\n",
    "    industry_200.extend(industry)\n",
    "    ratings = response.xpath('//td[@class=\"raiting\"]/div/text()').extract()\n",
    "    ratings_200.extend(ratings)\n",
    "    sales = response.xpath('//td[@class=\"sales-volume\"]/div/text()').extract()\n",
    "    sales = [sales[i*2+1] for i in range(25)]\n",
    "    sales_200.extend(sales)\n",
    "    next_page = browser.find_element_by_class_name('next')\n",
    "    next_page.click()\n",
    "    time.sleep(3)\n",
    "    url = browser.current_url\n",
    "\n",
    "browser.close()"
   ]
  },
  {
   "cell_type": "code",
   "execution_count": 5,
   "metadata": {},
   "outputs": [
    {
     "name": "stdout",
     "output_type": "stream",
     "text": [
      "200\n",
      "200\n",
      "183\n",
      "200\n"
     ]
    }
   ],
   "source": [
    "print(len(ratings_200))\n",
    "print(len(companies_200))\n",
    "print(len(industry_200))\n",
    "print(len(sales_200))"
   ]
  },
  {
   "cell_type": "markdown",
   "metadata": {},
   "source": [
    "There are some companies that don't have the industry mentioned. So I will not include them in my dataframe in this case."
   ]
  },
  {
   "cell_type": "markdown",
   "metadata": {},
   "source": [
    "#### b) what is the average tax paid?"
   ]
  },
  {
   "cell_type": "code",
   "execution_count": 6,
   "metadata": {},
   "outputs": [],
   "source": [
    "sales_200 = [int(x.replace(',', '')) for x in sales_200]"
   ]
  },
  {
   "cell_type": "code",
   "execution_count": 7,
   "metadata": {},
   "outputs": [],
   "source": [
    "df = pd.DataFrame({'Company': companies_200, 'Rating' :ratings_200, 'Total_Taxes': sales_200})"
   ]
  },
  {
   "cell_type": "code",
   "execution_count": 8,
   "metadata": {},
   "outputs": [
    {
     "data": {
      "text/html": [
       "<div>\n",
       "<style scoped>\n",
       "    .dataframe tbody tr th:only-of-type {\n",
       "        vertical-align: middle;\n",
       "    }\n",
       "\n",
       "    .dataframe tbody tr th {\n",
       "        vertical-align: top;\n",
       "    }\n",
       "\n",
       "    .dataframe thead th {\n",
       "        text-align: right;\n",
       "    }\n",
       "</style>\n",
       "<table border=\"1\" class=\"dataframe\">\n",
       "  <thead>\n",
       "    <tr style=\"text-align: right;\">\n",
       "      <th></th>\n",
       "      <th>Company</th>\n",
       "      <th>Rating</th>\n",
       "      <th>Total_Taxes</th>\n",
       "    </tr>\n",
       "  </thead>\n",
       "  <tbody>\n",
       "    <tr>\n",
       "      <th>0</th>\n",
       "      <td>ԳԱԶՊՐՈՄ ԱՐՄԵՆԻԱ</td>\n",
       "      <td>1</td>\n",
       "      <td>13570605</td>\n",
       "    </tr>\n",
       "    <tr>\n",
       "      <th>1</th>\n",
       "      <td>ԳՐԱՆԴ ՏՈԲԱԿՈ</td>\n",
       "      <td>2</td>\n",
       "      <td>12830020</td>\n",
       "    </tr>\n",
       "    <tr>\n",
       "      <th>2</th>\n",
       "      <td>ԶԱՆԳԵԶՈՒՐԻ ՊՂՆՁԱՄՈԼԻԲԴԵՆԱՅԻՆ ԿՈՄԲԻՆԱՏ</td>\n",
       "      <td>3</td>\n",
       "      <td>6684445</td>\n",
       "    </tr>\n",
       "    <tr>\n",
       "      <th>3</th>\n",
       "      <td>ՀԱՅԱՍՏԱՆԻ ԷԼԵԿՏՐԱԿԱՆ ՑԱՆՑԵՐ</td>\n",
       "      <td>4</td>\n",
       "      <td>4544427</td>\n",
       "    </tr>\n",
       "    <tr>\n",
       "      <th>4</th>\n",
       "      <td>ԳԵՈՊՐՈՄԱՅՆԻՆԳ ԳՈԼԴ</td>\n",
       "      <td>5</td>\n",
       "      <td>4295157</td>\n",
       "    </tr>\n",
       "  </tbody>\n",
       "</table>\n",
       "</div>"
      ],
      "text/plain": [
       "                                 Company Rating  Total_Taxes\n",
       "0                        ԳԱԶՊՐՈՄ ԱՐՄԵՆԻԱ      1     13570605\n",
       "1                           ԳՐԱՆԴ ՏՈԲԱԿՈ      2     12830020\n",
       "2  ԶԱՆԳԵԶՈՒՐԻ ՊՂՆՁԱՄՈԼԻԲԴԵՆԱՅԻՆ ԿՈՄԲԻՆԱՏ      3      6684445\n",
       "3            ՀԱՅԱՍՏԱՆԻ ԷԼԵԿՏՐԱԿԱՆ ՑԱՆՑԵՐ      4      4544427\n",
       "4                     ԳԵՈՊՐՈՄԱՅՆԻՆԳ ԳՈԼԴ      5      4295157"
      ]
     },
     "execution_count": 8,
     "metadata": {},
     "output_type": "execute_result"
    }
   ],
   "source": [
    "df.head()"
   ]
  },
  {
   "cell_type": "code",
   "execution_count": 9,
   "metadata": {},
   "outputs": [
    {
     "name": "stdout",
     "output_type": "stream",
     "text": [
      "Average tax: 809770.225 AMD\n"
     ]
    }
   ],
   "source": [
    "print(\"Average tax:\", df.Total_Taxes.mean(), \"AMD\")"
   ]
  },
  {
   "cell_type": "markdown",
   "metadata": {},
   "source": [
    "#### c) what is the top industry in the scraped list?"
   ]
  },
  {
   "cell_type": "code",
   "execution_count": 10,
   "metadata": {},
   "outputs": [
    {
     "data": {
      "text/plain": [
       "['Խմիչքների արտադրություն',\n",
       " 'Ցամաքային տրանսպորտ',\n",
       " 'Բանկային ոլորտ',\n",
       " 'Մանրածախ առևտուր, Սննդամթերքի և խմիչքի վաճառք',\n",
       " 'Ներմուծում',\n",
       " 'Կահույքի վաճառք, Մանրածախ առևտուր, Տրանսպորտ, Համակարգչային տեխնիկայի ներմուծում, Էլեկտրատեխնիկայի վաճառք, Կահույքի ներմուծում, Կենցաղային տեխնիկայի ներմուծում, Մեծածախ առևտուր, Շինանյութի վաճառք, Սպորտային ապրանքների վաճառք, Համակարգչային տեխնիկայի վաճառք, Կահույքի արտադրություն, Ներմուծում',\n",
       " 'Ծխախոտային արտադրատեսակների վաճառք',\n",
       " 'Մանրածախ առևտուր, Մեծածախ առևտուր',\n",
       " 'Բանկային ոլորտ',\n",
       " 'Ծրագրային ապահովում']"
      ]
     },
     "execution_count": 10,
     "metadata": {},
     "output_type": "execute_result"
    }
   ],
   "source": [
    "industry_200[30:40]"
   ]
  },
  {
   "cell_type": "markdown",
   "metadata": {},
   "source": [
    "Some companies belong to more than one industry. \n",
    "<br> So, I need to seperate them."
   ]
  },
  {
   "cell_type": "code",
   "execution_count": 11,
   "metadata": {},
   "outputs": [
    {
     "data": {
      "text/plain": [
       "267"
      ]
     },
     "execution_count": 11,
     "metadata": {},
     "output_type": "execute_result"
    }
   ],
   "source": [
    "ind_str = ''\n",
    "for i in industry_200:\n",
    "    ind_str = ind_str + i + ', '\n",
    "\n",
    "ind_list = ind_str.split(',')\n",
    "\n",
    "ind_list = [i.strip() for i in ind_list]\n",
    "\n",
    "len(ind_list)"
   ]
  },
  {
   "cell_type": "markdown",
   "metadata": {},
   "source": [
    "Top industries:"
   ]
  },
  {
   "cell_type": "code",
   "execution_count": 12,
   "metadata": {},
   "outputs": [
    {
     "data": {
      "text/plain": [
       "[('Բանկային ոլորտ', 14),\n",
       " ('Մեծածախ առևտուր', 13),\n",
       " ('Արդյունաբերություն', 12),\n",
       " ('Ներմուծում', 12),\n",
       " ('Սննդամթերքի և խմիչքի վաճառք', 11),\n",
       " ('Խմիչքների արտադրություն', 11),\n",
       " ('Սննդամթերքի և խմիչքի ներմուծում', 9),\n",
       " ('Սննդամթերքի արտադրություն', 8),\n",
       " ('Ծրագրային ապահովում', 8),\n",
       " ('Մանրածախ առևտուր', 7)]"
      ]
     },
     "execution_count": 12,
     "metadata": {},
     "output_type": "execute_result"
    }
   ],
   "source": [
    "Counter(ind_list).most_common(10)"
   ]
  },
  {
   "cell_type": "markdown",
   "metadata": {},
   "source": [
    "#### * It could go even this way"
   ]
  },
  {
   "cell_type": "code",
   "execution_count": 13,
   "metadata": {},
   "outputs": [],
   "source": [
    "url = 'https://www.harkatu.am/companies/hy?1'"
   ]
  },
  {
   "cell_type": "code",
   "execution_count": 14,
   "metadata": {},
   "outputs": [],
   "source": [
    "browser = webdriver.Chrome()\n",
    "tables = []\n",
    "\n",
    "while len(tables) < 200:\n",
    "    browser.get(url)\n",
    "    time.sleep(6)\n",
    "    page = browser.page_source\n",
    "    current_tables = pd.read_html(page)[:25]\n",
    "    tables.extend(current_tables)\n",
    "    next_page = browser.find_element_by_class_name('next')\n",
    "    next_page.click()\n",
    "    time.sleep(3)\n",
    "    url = browser.current_url\n",
    "\n",
    "browser.close()"
   ]
  },
  {
   "cell_type": "code",
   "execution_count": 15,
   "metadata": {},
   "outputs": [],
   "source": [
    "df2 = pd.concat(tables)"
   ]
  },
  {
   "cell_type": "code",
   "execution_count": 16,
   "metadata": {
    "scrolled": true
   },
   "outputs": [
    {
     "data": {
      "text/html": [
       "<div>\n",
       "<style scoped>\n",
       "    .dataframe tbody tr th:only-of-type {\n",
       "        vertical-align: middle;\n",
       "    }\n",
       "\n",
       "    .dataframe tbody tr th {\n",
       "        vertical-align: top;\n",
       "    }\n",
       "\n",
       "    .dataframe thead th {\n",
       "        text-align: right;\n",
       "    }\n",
       "</style>\n",
       "<table border=\"1\" class=\"dataframe\">\n",
       "  <thead>\n",
       "    <tr style=\"text-align: right;\">\n",
       "      <th></th>\n",
       "      <th>0</th>\n",
       "      <th>1</th>\n",
       "      <th>2</th>\n",
       "      <th>3</th>\n",
       "      <th>4</th>\n",
       "      <th>5</th>\n",
       "      <th>6</th>\n",
       "    </tr>\n",
       "  </thead>\n",
       "  <tbody>\n",
       "    <tr>\n",
       "      <th>0</th>\n",
       "      <td>1</td>\n",
       "      <td>NaN</td>\n",
       "      <td>ԳԱԶՊՐՈՄ ԱՐՄԵՆԻԱ  Գազի մատակարարում  Երևան  6041</td>\n",
       "      <td>1  2</td>\n",
       "      <td>var values = [13996698.50,6739555.53,9635324.9...</td>\n",
       "      <td>13,531,276  41.01%</td>\n",
       "      <td>13,570,605  41.2%</td>\n",
       "    </tr>\n",
       "    <tr>\n",
       "      <th>0</th>\n",
       "      <td>2</td>\n",
       "      <td>NaN</td>\n",
       "      <td>ԳՐԱՆԴ ՏՈԲԱԿՈ  Ծխախոտային արտադրատեսակներ  Երևա...</td>\n",
       "      <td>2  1</td>\n",
       "      <td>var values = [8070773.10,8628767.83,10996418.5...</td>\n",
       "      <td>12,126,039  10.76%</td>\n",
       "      <td>12,830,020  11.68%</td>\n",
       "    </tr>\n",
       "  </tbody>\n",
       "</table>\n",
       "</div>"
      ],
      "text/plain": [
       "   0   1                                                  2     3  \\\n",
       "0  1 NaN    ԳԱԶՊՐՈՄ ԱՐՄԵՆԻԱ  Գազի մատակարարում  Երևան  6041  1  2   \n",
       "0  2 NaN  ԳՐԱՆԴ ՏՈԲԱԿՈ  Ծխախոտային արտադրատեսակներ  Երևա...  2  1   \n",
       "\n",
       "                                                   4                   5  \\\n",
       "0  var values = [13996698.50,6739555.53,9635324.9...  13,531,276  41.01%   \n",
       "0  var values = [8070773.10,8628767.83,10996418.5...  12,126,039  10.76%   \n",
       "\n",
       "                    6  \n",
       "0   13,570,605  41.2%  \n",
       "0  12,830,020  11.68%  "
      ]
     },
     "execution_count": 16,
     "metadata": {},
     "output_type": "execute_result"
    }
   ],
   "source": [
    "df2.head(2)"
   ]
  },
  {
   "cell_type": "code",
   "execution_count": 17,
   "metadata": {},
   "outputs": [],
   "source": [
    "del(df2[1], df2[3], df2[4], df2[5])"
   ]
  },
  {
   "cell_type": "code",
   "execution_count": 18,
   "metadata": {},
   "outputs": [
    {
     "data": {
      "text/html": [
       "<div>\n",
       "<style scoped>\n",
       "    .dataframe tbody tr th:only-of-type {\n",
       "        vertical-align: middle;\n",
       "    }\n",
       "\n",
       "    .dataframe tbody tr th {\n",
       "        vertical-align: top;\n",
       "    }\n",
       "\n",
       "    .dataframe thead th {\n",
       "        text-align: right;\n",
       "    }\n",
       "</style>\n",
       "<table border=\"1\" class=\"dataframe\">\n",
       "  <thead>\n",
       "    <tr style=\"text-align: right;\">\n",
       "      <th></th>\n",
       "      <th>0</th>\n",
       "      <th>2</th>\n",
       "      <th>6</th>\n",
       "    </tr>\n",
       "  </thead>\n",
       "  <tbody>\n",
       "    <tr>\n",
       "      <th>0</th>\n",
       "      <td>1</td>\n",
       "      <td>ԳԱԶՊՐՈՄ ԱՐՄԵՆԻԱ  Գազի մատակարարում  Երևան  6041</td>\n",
       "      <td>13,570,605  41.2%</td>\n",
       "    </tr>\n",
       "    <tr>\n",
       "      <th>0</th>\n",
       "      <td>2</td>\n",
       "      <td>ԳՐԱՆԴ ՏՈԲԱԿՈ  Ծխախոտային արտադրատեսակներ  Երևա...</td>\n",
       "      <td>12,830,020  11.68%</td>\n",
       "    </tr>\n",
       "    <tr>\n",
       "      <th>0</th>\n",
       "      <td>3</td>\n",
       "      <td>ԶԱՆԳԵԶՈՒՐԻ ՊՂՆՁԱՄՈԼԻԲԴԵՆԱՅԻՆ ԿՈՄԲԻՆԱՏ  Մետաղակ...</td>\n",
       "      <td>6,684,445  18.98%</td>\n",
       "    </tr>\n",
       "    <tr>\n",
       "      <th>0</th>\n",
       "      <td>4</td>\n",
       "      <td>ՀԱՅԱՍՏԱՆԻ ԷԼԵԿՏՐԱԿԱՆ ՑԱՆՑԵՐ  Էլեկտրականության ...</td>\n",
       "      <td>4,544,427  106.26%</td>\n",
       "    </tr>\n",
       "    <tr>\n",
       "      <th>0</th>\n",
       "      <td>5</td>\n",
       "      <td>ԳԵՈՊՐՈՄԱՅՆԻՆԳ ԳՈԼԴ  Մետաղական հանքարդյունաբերո...</td>\n",
       "      <td>4,295,157  3.61%</td>\n",
       "    </tr>\n",
       "  </tbody>\n",
       "</table>\n",
       "</div>"
      ],
      "text/plain": [
       "   0                                                  2                   6\n",
       "0  1    ԳԱԶՊՐՈՄ ԱՐՄԵՆԻԱ  Գազի մատակարարում  Երևան  6041   13,570,605  41.2%\n",
       "0  2  ԳՐԱՆԴ ՏՈԲԱԿՈ  Ծխախոտային արտադրատեսակներ  Երևա...  12,830,020  11.68%\n",
       "0  3  ԶԱՆԳԵԶՈՒՐԻ ՊՂՆՁԱՄՈԼԻԲԴԵՆԱՅԻՆ ԿՈՄԲԻՆԱՏ  Մետաղակ...   6,684,445  18.98%\n",
       "0  4  ՀԱՅԱՍՏԱՆԻ ԷԼԵԿՏՐԱԿԱՆ ՑԱՆՑԵՐ  Էլեկտրականության ...  4,544,427  106.26%\n",
       "0  5  ԳԵՈՊՐՈՄԱՅՆԻՆԳ ԳՈԼԴ  Մետաղական հանքարդյունաբերո...    4,295,157  3.61%"
      ]
     },
     "execution_count": 18,
     "metadata": {},
     "output_type": "execute_result"
    }
   ],
   "source": [
    "df2.head()"
   ]
  },
  {
   "cell_type": "code",
   "execution_count": 19,
   "metadata": {},
   "outputs": [],
   "source": [
    "df2[2] = [re.findall('.*[Ա-Ֆ]{2}', a) for a in df2[2]]"
   ]
  },
  {
   "cell_type": "code",
   "execution_count": 20,
   "metadata": {},
   "outputs": [],
   "source": [
    "df2.columns = ['Rating', 'Company', 'Taxes']"
   ]
  },
  {
   "cell_type": "code",
   "execution_count": 21,
   "metadata": {},
   "outputs": [
    {
     "data": {
      "text/html": [
       "<div>\n",
       "<style scoped>\n",
       "    .dataframe tbody tr th:only-of-type {\n",
       "        vertical-align: middle;\n",
       "    }\n",
       "\n",
       "    .dataframe tbody tr th {\n",
       "        vertical-align: top;\n",
       "    }\n",
       "\n",
       "    .dataframe thead th {\n",
       "        text-align: right;\n",
       "    }\n",
       "</style>\n",
       "<table border=\"1\" class=\"dataframe\">\n",
       "  <thead>\n",
       "    <tr style=\"text-align: right;\">\n",
       "      <th></th>\n",
       "      <th>Rating</th>\n",
       "      <th>Company</th>\n",
       "      <th>Taxes</th>\n",
       "    </tr>\n",
       "  </thead>\n",
       "  <tbody>\n",
       "    <tr>\n",
       "      <th>0</th>\n",
       "      <td>1</td>\n",
       "      <td>[ԳԱԶՊՐՈՄ ԱՐՄԵՆԻԱ]</td>\n",
       "      <td>13,570,605  41.2%</td>\n",
       "    </tr>\n",
       "    <tr>\n",
       "      <th>0</th>\n",
       "      <td>2</td>\n",
       "      <td>[ԳՐԱՆԴ ՏՈԲԱԿՈ]</td>\n",
       "      <td>12,830,020  11.68%</td>\n",
       "    </tr>\n",
       "    <tr>\n",
       "      <th>0</th>\n",
       "      <td>3</td>\n",
       "      <td>[ԶԱՆԳԵԶՈՒՐԻ ՊՂՆՁԱՄՈԼԻԲԴԵՆԱՅԻՆ ԿՈՄԲԻՆԱՏ]</td>\n",
       "      <td>6,684,445  18.98%</td>\n",
       "    </tr>\n",
       "    <tr>\n",
       "      <th>0</th>\n",
       "      <td>4</td>\n",
       "      <td>[ՀԱՅԱՍՏԱՆԻ ԷԼԵԿՏՐԱԿԱՆ ՑԱՆՑԵՐ]</td>\n",
       "      <td>4,544,427  106.26%</td>\n",
       "    </tr>\n",
       "    <tr>\n",
       "      <th>0</th>\n",
       "      <td>5</td>\n",
       "      <td>[ԳԵՈՊՐՈՄԱՅՆԻՆԳ ԳՈԼԴ]</td>\n",
       "      <td>4,295,157  3.61%</td>\n",
       "    </tr>\n",
       "  </tbody>\n",
       "</table>\n",
       "</div>"
      ],
      "text/plain": [
       "   Rating                                  Company               Taxes\n",
       "0       1                        [ԳԱԶՊՐՈՄ ԱՐՄԵՆԻԱ]   13,570,605  41.2%\n",
       "0       2                           [ԳՐԱՆԴ ՏՈԲԱԿՈ]  12,830,020  11.68%\n",
       "0       3  [ԶԱՆԳԵԶՈՒՐԻ ՊՂՆՁԱՄՈԼԻԲԴԵՆԱՅԻՆ ԿՈՄԲԻՆԱՏ]   6,684,445  18.98%\n",
       "0       4            [ՀԱՅԱՍՏԱՆԻ ԷԼԵԿՏՐԱԿԱՆ ՑԱՆՑԵՐ]  4,544,427  106.26%\n",
       "0       5                     [ԳԵՈՊՐՈՄԱՅՆԻՆԳ ԳՈԼԴ]    4,295,157  3.61%"
      ]
     },
     "execution_count": 21,
     "metadata": {},
     "output_type": "execute_result"
    }
   ],
   "source": [
    "df2.head()"
   ]
  },
  {
   "cell_type": "code",
   "execution_count": 22,
   "metadata": {},
   "outputs": [],
   "source": [
    "df2.Taxes = [int(re.findall('.*\\s', t)[0].strip().replace(',', '')) for t in df2.Taxes]"
   ]
  },
  {
   "cell_type": "code",
   "execution_count": 23,
   "metadata": {},
   "outputs": [
    {
     "data": {
      "text/html": [
       "<div>\n",
       "<style scoped>\n",
       "    .dataframe tbody tr th:only-of-type {\n",
       "        vertical-align: middle;\n",
       "    }\n",
       "\n",
       "    .dataframe tbody tr th {\n",
       "        vertical-align: top;\n",
       "    }\n",
       "\n",
       "    .dataframe thead th {\n",
       "        text-align: right;\n",
       "    }\n",
       "</style>\n",
       "<table border=\"1\" class=\"dataframe\">\n",
       "  <thead>\n",
       "    <tr style=\"text-align: right;\">\n",
       "      <th></th>\n",
       "      <th>Rating</th>\n",
       "      <th>Company</th>\n",
       "      <th>Taxes</th>\n",
       "    </tr>\n",
       "  </thead>\n",
       "  <tbody>\n",
       "    <tr>\n",
       "      <th>0</th>\n",
       "      <td>1</td>\n",
       "      <td>[ԳԱԶՊՐՈՄ ԱՐՄԵՆԻԱ]</td>\n",
       "      <td>13570605</td>\n",
       "    </tr>\n",
       "    <tr>\n",
       "      <th>0</th>\n",
       "      <td>2</td>\n",
       "      <td>[ԳՐԱՆԴ ՏՈԲԱԿՈ]</td>\n",
       "      <td>12830020</td>\n",
       "    </tr>\n",
       "    <tr>\n",
       "      <th>0</th>\n",
       "      <td>3</td>\n",
       "      <td>[ԶԱՆԳԵԶՈՒՐԻ ՊՂՆՁԱՄՈԼԻԲԴԵՆԱՅԻՆ ԿՈՄԲԻՆԱՏ]</td>\n",
       "      <td>6684445</td>\n",
       "    </tr>\n",
       "    <tr>\n",
       "      <th>0</th>\n",
       "      <td>4</td>\n",
       "      <td>[ՀԱՅԱՍՏԱՆԻ ԷԼԵԿՏՐԱԿԱՆ ՑԱՆՑԵՐ]</td>\n",
       "      <td>4544427</td>\n",
       "    </tr>\n",
       "    <tr>\n",
       "      <th>0</th>\n",
       "      <td>5</td>\n",
       "      <td>[ԳԵՈՊՐՈՄԱՅՆԻՆԳ ԳՈԼԴ]</td>\n",
       "      <td>4295157</td>\n",
       "    </tr>\n",
       "  </tbody>\n",
       "</table>\n",
       "</div>"
      ],
      "text/plain": [
       "   Rating                                  Company     Taxes\n",
       "0       1                        [ԳԱԶՊՐՈՄ ԱՐՄԵՆԻԱ]  13570605\n",
       "0       2                           [ԳՐԱՆԴ ՏՈԲԱԿՈ]  12830020\n",
       "0       3  [ԶԱՆԳԵԶՈՒՐԻ ՊՂՆՁԱՄՈԼԻԲԴԵՆԱՅԻՆ ԿՈՄԲԻՆԱՏ]   6684445\n",
       "0       4            [ՀԱՅԱՍՏԱՆԻ ԷԼԵԿՏՐԱԿԱՆ ՑԱՆՑԵՐ]   4544427\n",
       "0       5                     [ԳԵՈՊՐՈՄԱՅՆԻՆԳ ԳՈԼԴ]   4295157"
      ]
     },
     "execution_count": 23,
     "metadata": {},
     "output_type": "execute_result"
    }
   ],
   "source": [
    "df2.head()"
   ]
  },
  {
   "cell_type": "code",
   "execution_count": 24,
   "metadata": {},
   "outputs": [
    {
     "name": "stdout",
     "output_type": "stream",
     "text": [
      "Average Tax: 809770.225 AMD\n"
     ]
    }
   ],
   "source": [
    "print('Average Tax:', df2.Taxes.mean(), 'AMD')"
   ]
  }
 ],
 "metadata": {
  "kernelspec": {
   "display_name": "Python 3",
   "language": "python",
   "name": "python3"
  },
  "language_info": {
   "codemirror_mode": {
    "name": "ipython",
    "version": 3
   },
   "file_extension": ".py",
   "mimetype": "text/x-python",
   "name": "python",
   "nbconvert_exporter": "python",
   "pygments_lexer": "ipython3",
   "version": "3.7.3"
  }
 },
 "nbformat": 4,
 "nbformat_minor": 2
}
