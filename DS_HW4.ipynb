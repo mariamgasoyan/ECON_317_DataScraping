{
 "cells": [
  {
   "cell_type": "markdown",
   "metadata": {},
   "source": [
    "### Mariam Gasoyan\n",
    "# Homework 4"
   ]
  },
  {
   "cell_type": "code",
   "execution_count": 1,
   "metadata": {},
   "outputs": [],
   "source": [
    "import lyricsgenius\n",
    "import pandas as pd\n",
    "from textblob import TextBlob, Word\n",
    "import wikipedia\n",
    "from collections import Counter\n",
    "from nltk.corpus import stopwords\n",
    "from pymystem3 import Mystem\n",
    "from string import punctuation"
   ]
  },
  {
   "cell_type": "markdown",
   "metadata": {},
   "source": [
    "### 1) Using Genius Api search for your favorite 3 artists."
   ]
  },
  {
   "cell_type": "code",
   "execution_count": 2,
   "metadata": {},
   "outputs": [],
   "source": [
    "genius = lyricsgenius.Genius('*****Your_Token_Here*****')"
   ]
  },
  {
   "cell_type": "code",
   "execution_count": 3,
   "metadata": {},
   "outputs": [
    {
     "name": "stdout",
     "output_type": "stream",
     "text": [
      "Searching for songs by Pink...\n",
      "\n",
      "Changing artist name to 'P!nk'\n",
      "Song 1: \"What About Us\"\n",
      "Song 2: \"Just Give Me a Reason\"\n",
      "Song 3: \"Beautiful Trauma\"\n",
      "Song 4: \"Revenge\"\n",
      "Song 5: \"Just Like Fire\"\n",
      "\n",
      "Reached user-specified song limit (5).\n",
      "Done. Found 5 songs.\n",
      "Searching for songs by Taylor Swift...\n",
      "\n",
      "Song 1: \"Look What You Made Me Do\"\n",
      "Song 2: \"End Game\"\n",
      "Song 3: \"ME!\"\n",
      "Song 4: \"...Ready for It?\"\n",
      "Song 5: \"You Need To Calm Down\"\n",
      "\n",
      "Reached user-specified song limit (5).\n",
      "Done. Found 5 songs.\n",
      "Searching for songs by Katy Perry...\n",
      "\n",
      "Song 1: \"Swish Swish\"\n",
      "Song 2: \"Chained to the Rhythm\"\n",
      "Song 3: \"Dark Horse\"\n",
      "Song 4: \"Bon Appétit\"\n",
      "Song 5: \"Roar\"\n",
      "\n",
      "Reached user-specified song limit (5).\n",
      "Done. Found 5 songs.\n"
     ]
    },
    {
     "data": {
      "text/plain": [
       "('Katy Perry', '5 songs')"
      ]
     },
     "execution_count": 3,
     "metadata": {},
     "output_type": "execute_result"
    }
   ],
   "source": [
    "genius.search_artist(\"Pink\", max_songs=5, sort=\"popularity\")\n",
    "genius.search_artist(\"Taylor Swift\", max_songs=5, sort=\"popularity\")\n",
    "genius.search_artist(\"Katy Perry\", max_songs=5, sort=\"popularity\")"
   ]
  },
  {
   "cell_type": "code",
   "execution_count": 4,
   "metadata": {},
   "outputs": [],
   "source": [
    "artists = [\"Pink\", \"Taylor Swift\",\"Katy Perry\"]"
   ]
  },
  {
   "cell_type": "markdown",
   "metadata": {},
   "source": [
    "#### a) Get 5 most popular songs’ lyrics for each of them. (max_songs=5)"
   ]
  },
  {
   "cell_type": "code",
   "execution_count": 5,
   "metadata": {
    "scrolled": false
   },
   "outputs": [
    {
     "name": "stdout",
     "output_type": "stream",
     "text": [
      "Searching for songs by Pink...\n",
      "\n",
      "Changing artist name to 'P!nk'\n",
      "Song 1: \"What About Us\"\n",
      "Song 2: \"Just Give Me a Reason\"\n",
      "Song 3: \"Beautiful Trauma\"\n",
      "Song 4: \"Revenge\"\n",
      "Song 5: \"Just Like Fire\"\n",
      "\n",
      "Reached user-specified song limit (5).\n",
      "Done. Found 5 songs.\n",
      "Searching for songs by Taylor Swift...\n",
      "\n",
      "Song 1: \"Look What You Made Me Do\"\n",
      "Song 2: \"End Game\"\n",
      "Song 3: \"ME!\"\n",
      "Song 4: \"...Ready for It?\"\n",
      "Song 5: \"You Need To Calm Down\"\n",
      "\n",
      "Reached user-specified song limit (5).\n",
      "Done. Found 5 songs.\n",
      "Searching for songs by Katy Perry...\n",
      "\n",
      "Song 1: \"Swish Swish\"\n",
      "Song 2: \"Chained to the Rhythm\"\n",
      "Song 3: \"Dark Horse\"\n",
      "Song 4: \"Bon Appétit\"\n",
      "Song 5: \"Roar\"\n",
      "\n",
      "Reached user-specified song limit (5).\n",
      "Done. Found 5 songs.\n"
     ]
    }
   ],
   "source": [
    "my_dict = {}\n",
    "\n",
    "for i in artists:\n",
    "    artist = genius.search_artist(i, max_songs=5, sort=\"popularity\")\n",
    "    my_dict.update({artist.name : {s.title:{\"Year\": s.year, \"Lyrics\" : s.lyrics} for s in artist.songs}})\n"
   ]
  },
  {
   "cell_type": "markdown",
   "metadata": {},
   "source": [
    "#### b) Make dataframe with columns “Artist”,”Song”,”Lyrics”,”Year”,”Sentiment_Score”"
   ]
  },
  {
   "cell_type": "code",
   "execution_count": 6,
   "metadata": {
    "scrolled": false
   },
   "outputs": [
    {
     "data": {
      "text/html": [
       "<div>\n",
       "<style scoped>\n",
       "    .dataframe tbody tr th:only-of-type {\n",
       "        vertical-align: middle;\n",
       "    }\n",
       "\n",
       "    .dataframe tbody tr th {\n",
       "        vertical-align: top;\n",
       "    }\n",
       "\n",
       "    .dataframe thead th {\n",
       "        text-align: right;\n",
       "    }\n",
       "</style>\n",
       "<table border=\"1\" class=\"dataframe\">\n",
       "  <thead>\n",
       "    <tr style=\"text-align: right;\">\n",
       "      <th></th>\n",
       "      <th>Artist</th>\n",
       "      <th>Song</th>\n",
       "      <th>Year</th>\n",
       "      <th>Lyrics</th>\n",
       "    </tr>\n",
       "  </thead>\n",
       "  <tbody>\n",
       "    <tr>\n",
       "      <th>0</th>\n",
       "      <td>P!nk</td>\n",
       "      <td>What About Us</td>\n",
       "      <td>2017-08-10</td>\n",
       "      <td>[Intro]\\nLa-da-da-da-da, la-da-da-da-da\\nDa-da...</td>\n",
       "    </tr>\n",
       "    <tr>\n",
       "      <th>1</th>\n",
       "      <td>P!nk</td>\n",
       "      <td>Just Give Me a Reason</td>\n",
       "      <td>2013-02-26</td>\n",
       "      <td>[Verse 1: P!nk]\\nRight from the start\\nYou wer...</td>\n",
       "    </tr>\n",
       "    <tr>\n",
       "      <th>2</th>\n",
       "      <td>P!nk</td>\n",
       "      <td>Beautiful Trauma</td>\n",
       "      <td>2017-09-28</td>\n",
       "      <td>[Verse 1]\\nWe were on fire\\nI slashed your tir...</td>\n",
       "    </tr>\n",
       "    <tr>\n",
       "      <th>3</th>\n",
       "      <td>P!nk</td>\n",
       "      <td>Revenge</td>\n",
       "      <td>2017-10-13</td>\n",
       "      <td>[Intro: P!nk]\\nMhm, mhm, mhm, mhm, mhm, mhm, m...</td>\n",
       "    </tr>\n",
       "    <tr>\n",
       "      <th>4</th>\n",
       "      <td>P!nk</td>\n",
       "      <td>Just Like Fire</td>\n",
       "      <td>2016-04-15</td>\n",
       "      <td>[Verse 1]\\nI know that I am runnin' out of tim...</td>\n",
       "    </tr>\n",
       "    <tr>\n",
       "      <th>5</th>\n",
       "      <td>Taylor Swift</td>\n",
       "      <td>Look What You Made Me Do</td>\n",
       "      <td>2017-08-25</td>\n",
       "      <td>[Verse 1]\\nI don't like your little games\\nDon...</td>\n",
       "    </tr>\n",
       "    <tr>\n",
       "      <th>6</th>\n",
       "      <td>Taylor Swift</td>\n",
       "      <td>End Game</td>\n",
       "      <td>2017-11-10</td>\n",
       "      <td>[Chorus: Taylor Swift &amp; Future]\\nI wanna be yo...</td>\n",
       "    </tr>\n",
       "    <tr>\n",
       "      <th>7</th>\n",
       "      <td>Taylor Swift</td>\n",
       "      <td>ME!</td>\n",
       "      <td>2019-04-26</td>\n",
       "      <td>[Intro: Taylor Swift]\\nI promise that you'll n...</td>\n",
       "    </tr>\n",
       "    <tr>\n",
       "      <th>8</th>\n",
       "      <td>Taylor Swift</td>\n",
       "      <td>...Ready for It?</td>\n",
       "      <td>2017-09-03</td>\n",
       "      <td>[Verse 1]\\nKnew he was a killer first time tha...</td>\n",
       "    </tr>\n",
       "    <tr>\n",
       "      <th>9</th>\n",
       "      <td>Taylor Swift</td>\n",
       "      <td>You Need To Calm Down</td>\n",
       "      <td>2019-06-14</td>\n",
       "      <td>[Verse 1]\\nYou are somebody that I don't know\\...</td>\n",
       "    </tr>\n",
       "    <tr>\n",
       "      <th>10</th>\n",
       "      <td>Katy Perry</td>\n",
       "      <td>Swish Swish</td>\n",
       "      <td>2017-05-19</td>\n",
       "      <td>[Refrain]\\nThey know what is what\\nBut they do...</td>\n",
       "    </tr>\n",
       "    <tr>\n",
       "      <th>11</th>\n",
       "      <td>Katy Perry</td>\n",
       "      <td>Chained to the Rhythm</td>\n",
       "      <td>2017-02-10</td>\n",
       "      <td>[Verse 1: Katy Perry]\\nAre we crazy?\\nLiving o...</td>\n",
       "    </tr>\n",
       "    <tr>\n",
       "      <th>12</th>\n",
       "      <td>Katy Perry</td>\n",
       "      <td>Dark Horse</td>\n",
       "      <td>2013-10-18</td>\n",
       "      <td>[Intro: Juicy J]\\nYeah, ya'll know what it is\\...</td>\n",
       "    </tr>\n",
       "    <tr>\n",
       "      <th>13</th>\n",
       "      <td>Katy Perry</td>\n",
       "      <td>Bon Appétit</td>\n",
       "      <td>2017-04-28</td>\n",
       "      <td>[Intro: Quavo]\\nAyy, yeah\\nKaty Perry, Migos\\n...</td>\n",
       "    </tr>\n",
       "    <tr>\n",
       "      <th>14</th>\n",
       "      <td>Katy Perry</td>\n",
       "      <td>Roar</td>\n",
       "      <td>2013-08-10</td>\n",
       "      <td>[Verse 1]\\nI used to bite my tongue and hold m...</td>\n",
       "    </tr>\n",
       "  </tbody>\n",
       "</table>\n",
       "</div>"
      ],
      "text/plain": [
       "          Artist                      Song        Year  \\\n",
       "0           P!nk             What About Us  2017-08-10   \n",
       "1           P!nk     Just Give Me a Reason  2013-02-26   \n",
       "2           P!nk          Beautiful Trauma  2017-09-28   \n",
       "3           P!nk                   Revenge  2017-10-13   \n",
       "4           P!nk            Just Like Fire  2016-04-15   \n",
       "5   Taylor Swift  Look What You Made Me Do  2017-08-25   \n",
       "6   Taylor Swift                  End Game  2017-11-10   \n",
       "7   Taylor Swift                       ME!  2019-04-26   \n",
       "8   Taylor Swift          ...Ready for It?  2017-09-03   \n",
       "9   Taylor Swift     You Need To Calm Down  2019-06-14   \n",
       "10    Katy Perry               Swish Swish  2017-05-19   \n",
       "11    Katy Perry     Chained to the Rhythm  2017-02-10   \n",
       "12    Katy Perry                Dark Horse  2013-10-18   \n",
       "13    Katy Perry               Bon Appétit  2017-04-28   \n",
       "14    Katy Perry                      Roar  2013-08-10   \n",
       "\n",
       "                                               Lyrics  \n",
       "0   [Intro]\\nLa-da-da-da-da, la-da-da-da-da\\nDa-da...  \n",
       "1   [Verse 1: P!nk]\\nRight from the start\\nYou wer...  \n",
       "2   [Verse 1]\\nWe were on fire\\nI slashed your tir...  \n",
       "3   [Intro: P!nk]\\nMhm, mhm, mhm, mhm, mhm, mhm, m...  \n",
       "4   [Verse 1]\\nI know that I am runnin' out of tim...  \n",
       "5   [Verse 1]\\nI don't like your little games\\nDon...  \n",
       "6   [Chorus: Taylor Swift & Future]\\nI wanna be yo...  \n",
       "7   [Intro: Taylor Swift]\\nI promise that you'll n...  \n",
       "8   [Verse 1]\\nKnew he was a killer first time tha...  \n",
       "9   [Verse 1]\\nYou are somebody that I don't know\\...  \n",
       "10  [Refrain]\\nThey know what is what\\nBut they do...  \n",
       "11  [Verse 1: Katy Perry]\\nAre we crazy?\\nLiving o...  \n",
       "12  [Intro: Juicy J]\\nYeah, ya'll know what it is\\...  \n",
       "13  [Intro: Quavo]\\nAyy, yeah\\nKaty Perry, Migos\\n...  \n",
       "14  [Verse 1]\\nI used to bite my tongue and hold m...  "
      ]
     },
     "execution_count": 6,
     "metadata": {},
     "output_type": "execute_result"
    }
   ],
   "source": [
    "songs_df = pd.DataFrame(\n",
    "    [[i, j, my_dict[i][j]['Year'], my_dict[i][j]['Lyrics']] for i in my_dict.keys() for j in my_dict[i].keys()], \n",
    "    columns=['Artist', 'Song', 'Year', 'Lyrics'])\n",
    "songs_df"
   ]
  },
  {
   "cell_type": "markdown",
   "metadata": {},
   "source": [
    "Or it could be even so:"
   ]
  },
  {
   "cell_type": "code",
   "execution_count": 7,
   "metadata": {
    "scrolled": false
   },
   "outputs": [
    {
     "data": {
      "text/html": [
       "<div>\n",
       "<style scoped>\n",
       "    .dataframe tbody tr th:only-of-type {\n",
       "        vertical-align: middle;\n",
       "    }\n",
       "\n",
       "    .dataframe tbody tr th {\n",
       "        vertical-align: top;\n",
       "    }\n",
       "\n",
       "    .dataframe thead th {\n",
       "        text-align: right;\n",
       "    }\n",
       "</style>\n",
       "<table border=\"1\" class=\"dataframe\">\n",
       "  <thead>\n",
       "    <tr style=\"text-align: right;\">\n",
       "      <th></th>\n",
       "      <th></th>\n",
       "      <th>Year</th>\n",
       "      <th>Lyrics</th>\n",
       "    </tr>\n",
       "  </thead>\n",
       "  <tbody>\n",
       "    <tr>\n",
       "      <th rowspan=\"5\" valign=\"top\">Katy Perry</th>\n",
       "      <th>Bon Appétit</th>\n",
       "      <td>2017-04-28</td>\n",
       "      <td>[Intro: Quavo]\\nAyy, yeah\\nKaty Perry, Migos\\n...</td>\n",
       "    </tr>\n",
       "    <tr>\n",
       "      <th>Chained to the Rhythm</th>\n",
       "      <td>2017-02-10</td>\n",
       "      <td>[Verse 1: Katy Perry]\\nAre we crazy?\\nLiving o...</td>\n",
       "    </tr>\n",
       "    <tr>\n",
       "      <th>Dark Horse</th>\n",
       "      <td>2013-10-18</td>\n",
       "      <td>[Intro: Juicy J]\\nYeah, ya'll know what it is\\...</td>\n",
       "    </tr>\n",
       "    <tr>\n",
       "      <th>Roar</th>\n",
       "      <td>2013-08-10</td>\n",
       "      <td>[Verse 1]\\nI used to bite my tongue and hold m...</td>\n",
       "    </tr>\n",
       "    <tr>\n",
       "      <th>Swish Swish</th>\n",
       "      <td>2017-05-19</td>\n",
       "      <td>[Refrain]\\nThey know what is what\\nBut they do...</td>\n",
       "    </tr>\n",
       "    <tr>\n",
       "      <th rowspan=\"5\" valign=\"top\">P!nk</th>\n",
       "      <th>Beautiful Trauma</th>\n",
       "      <td>2017-09-28</td>\n",
       "      <td>[Verse 1]\\nWe were on fire\\nI slashed your tir...</td>\n",
       "    </tr>\n",
       "    <tr>\n",
       "      <th>Just Give Me a Reason</th>\n",
       "      <td>2013-02-26</td>\n",
       "      <td>[Verse 1: P!nk]\\nRight from the start\\nYou wer...</td>\n",
       "    </tr>\n",
       "    <tr>\n",
       "      <th>Just Like Fire</th>\n",
       "      <td>2016-04-15</td>\n",
       "      <td>[Verse 1]\\nI know that I am runnin' out of tim...</td>\n",
       "    </tr>\n",
       "    <tr>\n",
       "      <th>Revenge</th>\n",
       "      <td>2017-10-13</td>\n",
       "      <td>[Intro: P!nk]\\nMhm, mhm, mhm, mhm, mhm, mhm, m...</td>\n",
       "    </tr>\n",
       "    <tr>\n",
       "      <th>What About Us</th>\n",
       "      <td>2017-08-10</td>\n",
       "      <td>[Intro]\\nLa-da-da-da-da, la-da-da-da-da\\nDa-da...</td>\n",
       "    </tr>\n",
       "    <tr>\n",
       "      <th rowspan=\"5\" valign=\"top\">Taylor Swift</th>\n",
       "      <th>...Ready for It?</th>\n",
       "      <td>2017-09-03</td>\n",
       "      <td>[Verse 1]\\nKnew he was a killer first time tha...</td>\n",
       "    </tr>\n",
       "    <tr>\n",
       "      <th>End Game</th>\n",
       "      <td>2017-11-10</td>\n",
       "      <td>[Chorus: Taylor Swift &amp; Future]\\nI wanna be yo...</td>\n",
       "    </tr>\n",
       "    <tr>\n",
       "      <th>Look What You Made Me Do</th>\n",
       "      <td>2017-08-25</td>\n",
       "      <td>[Verse 1]\\nI don't like your little games\\nDon...</td>\n",
       "    </tr>\n",
       "    <tr>\n",
       "      <th>ME!</th>\n",
       "      <td>2019-04-26</td>\n",
       "      <td>[Intro: Taylor Swift]\\nI promise that you'll n...</td>\n",
       "    </tr>\n",
       "    <tr>\n",
       "      <th>You Need To Calm Down</th>\n",
       "      <td>2019-06-14</td>\n",
       "      <td>[Verse 1]\\nYou are somebody that I don't know\\...</td>\n",
       "    </tr>\n",
       "  </tbody>\n",
       "</table>\n",
       "</div>"
      ],
      "text/plain": [
       "                                             Year  \\\n",
       "Katy Perry   Bon Appétit               2017-04-28   \n",
       "             Chained to the Rhythm     2017-02-10   \n",
       "             Dark Horse                2013-10-18   \n",
       "             Roar                      2013-08-10   \n",
       "             Swish Swish               2017-05-19   \n",
       "P!nk         Beautiful Trauma          2017-09-28   \n",
       "             Just Give Me a Reason     2013-02-26   \n",
       "             Just Like Fire            2016-04-15   \n",
       "             Revenge                   2017-10-13   \n",
       "             What About Us             2017-08-10   \n",
       "Taylor Swift ...Ready for It?          2017-09-03   \n",
       "             End Game                  2017-11-10   \n",
       "             Look What You Made Me Do  2017-08-25   \n",
       "             ME!                       2019-04-26   \n",
       "             You Need To Calm Down     2019-06-14   \n",
       "\n",
       "                                                                                  Lyrics  \n",
       "Katy Perry   Bon Appétit               [Intro: Quavo]\\nAyy, yeah\\nKaty Perry, Migos\\n...  \n",
       "             Chained to the Rhythm     [Verse 1: Katy Perry]\\nAre we crazy?\\nLiving o...  \n",
       "             Dark Horse                [Intro: Juicy J]\\nYeah, ya'll know what it is\\...  \n",
       "             Roar                      [Verse 1]\\nI used to bite my tongue and hold m...  \n",
       "             Swish Swish               [Refrain]\\nThey know what is what\\nBut they do...  \n",
       "P!nk         Beautiful Trauma          [Verse 1]\\nWe were on fire\\nI slashed your tir...  \n",
       "             Just Give Me a Reason     [Verse 1: P!nk]\\nRight from the start\\nYou wer...  \n",
       "             Just Like Fire            [Verse 1]\\nI know that I am runnin' out of tim...  \n",
       "             Revenge                   [Intro: P!nk]\\nMhm, mhm, mhm, mhm, mhm, mhm, m...  \n",
       "             What About Us             [Intro]\\nLa-da-da-da-da, la-da-da-da-da\\nDa-da...  \n",
       "Taylor Swift ...Ready for It?          [Verse 1]\\nKnew he was a killer first time tha...  \n",
       "             End Game                  [Chorus: Taylor Swift & Future]\\nI wanna be yo...  \n",
       "             Look What You Made Me Do  [Verse 1]\\nI don't like your little games\\nDon...  \n",
       "             ME!                       [Intro: Taylor Swift]\\nI promise that you'll n...  \n",
       "             You Need To Calm Down     [Verse 1]\\nYou are somebody that I don't know\\...  "
      ]
     },
     "execution_count": 7,
     "metadata": {},
     "output_type": "execute_result"
    }
   ],
   "source": [
    "pd.DataFrame.from_dict(\n",
    "    {(i,j): my_dict[i][j] for i in my_dict.keys() for j in my_dict[i].keys()}, \n",
    "                                  orient='index')"
   ]
  },
  {
   "cell_type": "code",
   "execution_count": 8,
   "metadata": {},
   "outputs": [],
   "source": [
    "songs_df[\"Sentiment_Score\"] = songs_df.Lyrics.apply(lambda x: TextBlob(x).sentiment.polarity)"
   ]
  },
  {
   "cell_type": "code",
   "execution_count": 9,
   "metadata": {
    "scrolled": false
   },
   "outputs": [
    {
     "data": {
      "text/html": [
       "<div>\n",
       "<style scoped>\n",
       "    .dataframe tbody tr th:only-of-type {\n",
       "        vertical-align: middle;\n",
       "    }\n",
       "\n",
       "    .dataframe tbody tr th {\n",
       "        vertical-align: top;\n",
       "    }\n",
       "\n",
       "    .dataframe thead th {\n",
       "        text-align: right;\n",
       "    }\n",
       "</style>\n",
       "<table border=\"1\" class=\"dataframe\">\n",
       "  <thead>\n",
       "    <tr style=\"text-align: right;\">\n",
       "      <th></th>\n",
       "      <th>Artist</th>\n",
       "      <th>Song</th>\n",
       "      <th>Year</th>\n",
       "      <th>Lyrics</th>\n",
       "      <th>Sentiment_Score</th>\n",
       "    </tr>\n",
       "  </thead>\n",
       "  <tbody>\n",
       "    <tr>\n",
       "      <th>0</th>\n",
       "      <td>P!nk</td>\n",
       "      <td>What About Us</td>\n",
       "      <td>2017-08-10</td>\n",
       "      <td>[Intro]\\nLa-da-da-da-da, la-da-da-da-da\\nDa-da...</td>\n",
       "      <td>0.247685</td>\n",
       "    </tr>\n",
       "    <tr>\n",
       "      <th>1</th>\n",
       "      <td>P!nk</td>\n",
       "      <td>Just Give Me a Reason</td>\n",
       "      <td>2013-02-26</td>\n",
       "      <td>[Verse 1: P!nk]\\nRight from the start\\nYou wer...</td>\n",
       "      <td>0.189892</td>\n",
       "    </tr>\n",
       "    <tr>\n",
       "      <th>2</th>\n",
       "      <td>P!nk</td>\n",
       "      <td>Beautiful Trauma</td>\n",
       "      <td>2017-09-28</td>\n",
       "      <td>[Verse 1]\\nWe were on fire\\nI slashed your tir...</td>\n",
       "      <td>0.336868</td>\n",
       "    </tr>\n",
       "    <tr>\n",
       "      <th>3</th>\n",
       "      <td>P!nk</td>\n",
       "      <td>Revenge</td>\n",
       "      <td>2017-10-13</td>\n",
       "      <td>[Intro: P!nk]\\nMhm, mhm, mhm, mhm, mhm, mhm, m...</td>\n",
       "      <td>0.056209</td>\n",
       "    </tr>\n",
       "    <tr>\n",
       "      <th>4</th>\n",
       "      <td>P!nk</td>\n",
       "      <td>Just Like Fire</td>\n",
       "      <td>2016-04-15</td>\n",
       "      <td>[Verse 1]\\nI know that I am runnin' out of tim...</td>\n",
       "      <td>0.261111</td>\n",
       "    </tr>\n",
       "    <tr>\n",
       "      <th>5</th>\n",
       "      <td>Taylor Swift</td>\n",
       "      <td>Look What You Made Me Do</td>\n",
       "      <td>2017-08-25</td>\n",
       "      <td>[Verse 1]\\nI don't like your little games\\nDon...</td>\n",
       "      <td>-0.028656</td>\n",
       "    </tr>\n",
       "    <tr>\n",
       "      <th>6</th>\n",
       "      <td>Taylor Swift</td>\n",
       "      <td>End Game</td>\n",
       "      <td>2017-11-10</td>\n",
       "      <td>[Chorus: Taylor Swift &amp; Future]\\nI wanna be yo...</td>\n",
       "      <td>-0.083115</td>\n",
       "    </tr>\n",
       "    <tr>\n",
       "      <th>7</th>\n",
       "      <td>Taylor Swift</td>\n",
       "      <td>ME!</td>\n",
       "      <td>2019-04-26</td>\n",
       "      <td>[Intro: Taylor Swift]\\nI promise that you'll n...</td>\n",
       "      <td>0.225806</td>\n",
       "    </tr>\n",
       "    <tr>\n",
       "      <th>8</th>\n",
       "      <td>Taylor Swift</td>\n",
       "      <td>...Ready for It?</td>\n",
       "      <td>2017-09-03</td>\n",
       "      <td>[Verse 1]\\nKnew he was a killer first time tha...</td>\n",
       "      <td>0.057604</td>\n",
       "    </tr>\n",
       "    <tr>\n",
       "      <th>9</th>\n",
       "      <td>Taylor Swift</td>\n",
       "      <td>You Need To Calm Down</td>\n",
       "      <td>2019-06-14</td>\n",
       "      <td>[Verse 1]\\nYou are somebody that I don't know\\...</td>\n",
       "      <td>0.005185</td>\n",
       "    </tr>\n",
       "    <tr>\n",
       "      <th>10</th>\n",
       "      <td>Katy Perry</td>\n",
       "      <td>Swish Swish</td>\n",
       "      <td>2017-05-19</td>\n",
       "      <td>[Refrain]\\nThey know what is what\\nBut they do...</td>\n",
       "      <td>0.101075</td>\n",
       "    </tr>\n",
       "    <tr>\n",
       "      <th>11</th>\n",
       "      <td>Katy Perry</td>\n",
       "      <td>Chained to the Rhythm</td>\n",
       "      <td>2017-02-10</td>\n",
       "      <td>[Verse 1: Katy Perry]\\nAre we crazy?\\nLiving o...</td>\n",
       "      <td>0.100775</td>\n",
       "    </tr>\n",
       "    <tr>\n",
       "      <th>12</th>\n",
       "      <td>Katy Perry</td>\n",
       "      <td>Dark Horse</td>\n",
       "      <td>2013-10-18</td>\n",
       "      <td>[Intro: Juicy J]\\nYeah, ya'll know what it is\\...</td>\n",
       "      <td>0.293539</td>\n",
       "    </tr>\n",
       "    <tr>\n",
       "      <th>13</th>\n",
       "      <td>Katy Perry</td>\n",
       "      <td>Bon Appétit</td>\n",
       "      <td>2017-04-28</td>\n",
       "      <td>[Intro: Quavo]\\nAyy, yeah\\nKaty Perry, Migos\\n...</td>\n",
       "      <td>0.334970</td>\n",
       "    </tr>\n",
       "    <tr>\n",
       "      <th>14</th>\n",
       "      <td>Katy Perry</td>\n",
       "      <td>Roar</td>\n",
       "      <td>2013-08-10</td>\n",
       "      <td>[Verse 1]\\nI used to bite my tongue and hold m...</td>\n",
       "      <td>0.053770</td>\n",
       "    </tr>\n",
       "  </tbody>\n",
       "</table>\n",
       "</div>"
      ],
      "text/plain": [
       "          Artist                      Song        Year  \\\n",
       "0           P!nk             What About Us  2017-08-10   \n",
       "1           P!nk     Just Give Me a Reason  2013-02-26   \n",
       "2           P!nk          Beautiful Trauma  2017-09-28   \n",
       "3           P!nk                   Revenge  2017-10-13   \n",
       "4           P!nk            Just Like Fire  2016-04-15   \n",
       "5   Taylor Swift  Look What You Made Me Do  2017-08-25   \n",
       "6   Taylor Swift                  End Game  2017-11-10   \n",
       "7   Taylor Swift                       ME!  2019-04-26   \n",
       "8   Taylor Swift          ...Ready for It?  2017-09-03   \n",
       "9   Taylor Swift     You Need To Calm Down  2019-06-14   \n",
       "10    Katy Perry               Swish Swish  2017-05-19   \n",
       "11    Katy Perry     Chained to the Rhythm  2017-02-10   \n",
       "12    Katy Perry                Dark Horse  2013-10-18   \n",
       "13    Katy Perry               Bon Appétit  2017-04-28   \n",
       "14    Katy Perry                      Roar  2013-08-10   \n",
       "\n",
       "                                               Lyrics  Sentiment_Score  \n",
       "0   [Intro]\\nLa-da-da-da-da, la-da-da-da-da\\nDa-da...         0.247685  \n",
       "1   [Verse 1: P!nk]\\nRight from the start\\nYou wer...         0.189892  \n",
       "2   [Verse 1]\\nWe were on fire\\nI slashed your tir...         0.336868  \n",
       "3   [Intro: P!nk]\\nMhm, mhm, mhm, mhm, mhm, mhm, m...         0.056209  \n",
       "4   [Verse 1]\\nI know that I am runnin' out of tim...         0.261111  \n",
       "5   [Verse 1]\\nI don't like your little games\\nDon...        -0.028656  \n",
       "6   [Chorus: Taylor Swift & Future]\\nI wanna be yo...        -0.083115  \n",
       "7   [Intro: Taylor Swift]\\nI promise that you'll n...         0.225806  \n",
       "8   [Verse 1]\\nKnew he was a killer first time tha...         0.057604  \n",
       "9   [Verse 1]\\nYou are somebody that I don't know\\...         0.005185  \n",
       "10  [Refrain]\\nThey know what is what\\nBut they do...         0.101075  \n",
       "11  [Verse 1: Katy Perry]\\nAre we crazy?\\nLiving o...         0.100775  \n",
       "12  [Intro: Juicy J]\\nYeah, ya'll know what it is\\...         0.293539  \n",
       "13  [Intro: Quavo]\\nAyy, yeah\\nKaty Perry, Migos\\n...         0.334970  \n",
       "14  [Verse 1]\\nI used to bite my tongue and hold m...         0.053770  "
      ]
     },
     "execution_count": 9,
     "metadata": {},
     "output_type": "execute_result"
    }
   ],
   "source": [
    "songs_df"
   ]
  },
  {
   "cell_type": "markdown",
   "metadata": {},
   "source": [
    "#### c) What are the most positive and negative songs?"
   ]
  },
  {
   "cell_type": "markdown",
   "metadata": {},
   "source": [
    "Most Negatives:"
   ]
  },
  {
   "cell_type": "code",
   "execution_count": 10,
   "metadata": {},
   "outputs": [
    {
     "data": {
      "text/html": [
       "<div>\n",
       "<style scoped>\n",
       "    .dataframe tbody tr th:only-of-type {\n",
       "        vertical-align: middle;\n",
       "    }\n",
       "\n",
       "    .dataframe tbody tr th {\n",
       "        vertical-align: top;\n",
       "    }\n",
       "\n",
       "    .dataframe thead th {\n",
       "        text-align: right;\n",
       "    }\n",
       "</style>\n",
       "<table border=\"1\" class=\"dataframe\">\n",
       "  <thead>\n",
       "    <tr style=\"text-align: right;\">\n",
       "      <th></th>\n",
       "      <th>Artist</th>\n",
       "      <th>Song</th>\n",
       "      <th>Year</th>\n",
       "      <th>Lyrics</th>\n",
       "      <th>Sentiment_Score</th>\n",
       "    </tr>\n",
       "  </thead>\n",
       "  <tbody>\n",
       "    <tr>\n",
       "      <th>6</th>\n",
       "      <td>Taylor Swift</td>\n",
       "      <td>End Game</td>\n",
       "      <td>2017-11-10</td>\n",
       "      <td>[Chorus: Taylor Swift &amp; Future]\\nI wanna be yo...</td>\n",
       "      <td>-0.083115</td>\n",
       "    </tr>\n",
       "    <tr>\n",
       "      <th>5</th>\n",
       "      <td>Taylor Swift</td>\n",
       "      <td>Look What You Made Me Do</td>\n",
       "      <td>2017-08-25</td>\n",
       "      <td>[Verse 1]\\nI don't like your little games\\nDon...</td>\n",
       "      <td>-0.028656</td>\n",
       "    </tr>\n",
       "    <tr>\n",
       "      <th>9</th>\n",
       "      <td>Taylor Swift</td>\n",
       "      <td>You Need To Calm Down</td>\n",
       "      <td>2019-06-14</td>\n",
       "      <td>[Verse 1]\\nYou are somebody that I don't know\\...</td>\n",
       "      <td>0.005185</td>\n",
       "    </tr>\n",
       "  </tbody>\n",
       "</table>\n",
       "</div>"
      ],
      "text/plain": [
       "         Artist                      Song        Year  \\\n",
       "6  Taylor Swift                  End Game  2017-11-10   \n",
       "5  Taylor Swift  Look What You Made Me Do  2017-08-25   \n",
       "9  Taylor Swift     You Need To Calm Down  2019-06-14   \n",
       "\n",
       "                                              Lyrics  Sentiment_Score  \n",
       "6  [Chorus: Taylor Swift & Future]\\nI wanna be yo...        -0.083115  \n",
       "5  [Verse 1]\\nI don't like your little games\\nDon...        -0.028656  \n",
       "9  [Verse 1]\\nYou are somebody that I don't know\\...         0.005185  "
      ]
     },
     "execution_count": 10,
     "metadata": {},
     "output_type": "execute_result"
    }
   ],
   "source": [
    "songs_df.sort_values(\"Sentiment_Score\", ascending=True).head(3)"
   ]
  },
  {
   "cell_type": "markdown",
   "metadata": {},
   "source": [
    "Most Positives:"
   ]
  },
  {
   "cell_type": "code",
   "execution_count": 11,
   "metadata": {},
   "outputs": [
    {
     "data": {
      "text/html": [
       "<div>\n",
       "<style scoped>\n",
       "    .dataframe tbody tr th:only-of-type {\n",
       "        vertical-align: middle;\n",
       "    }\n",
       "\n",
       "    .dataframe tbody tr th {\n",
       "        vertical-align: top;\n",
       "    }\n",
       "\n",
       "    .dataframe thead th {\n",
       "        text-align: right;\n",
       "    }\n",
       "</style>\n",
       "<table border=\"1\" class=\"dataframe\">\n",
       "  <thead>\n",
       "    <tr style=\"text-align: right;\">\n",
       "      <th></th>\n",
       "      <th>Artist</th>\n",
       "      <th>Song</th>\n",
       "      <th>Year</th>\n",
       "      <th>Lyrics</th>\n",
       "      <th>Sentiment_Score</th>\n",
       "    </tr>\n",
       "  </thead>\n",
       "  <tbody>\n",
       "    <tr>\n",
       "      <th>2</th>\n",
       "      <td>P!nk</td>\n",
       "      <td>Beautiful Trauma</td>\n",
       "      <td>2017-09-28</td>\n",
       "      <td>[Verse 1]\\nWe were on fire\\nI slashed your tir...</td>\n",
       "      <td>0.336868</td>\n",
       "    </tr>\n",
       "    <tr>\n",
       "      <th>13</th>\n",
       "      <td>Katy Perry</td>\n",
       "      <td>Bon Appétit</td>\n",
       "      <td>2017-04-28</td>\n",
       "      <td>[Intro: Quavo]\\nAyy, yeah\\nKaty Perry, Migos\\n...</td>\n",
       "      <td>0.334970</td>\n",
       "    </tr>\n",
       "    <tr>\n",
       "      <th>12</th>\n",
       "      <td>Katy Perry</td>\n",
       "      <td>Dark Horse</td>\n",
       "      <td>2013-10-18</td>\n",
       "      <td>[Intro: Juicy J]\\nYeah, ya'll know what it is\\...</td>\n",
       "      <td>0.293539</td>\n",
       "    </tr>\n",
       "  </tbody>\n",
       "</table>\n",
       "</div>"
      ],
      "text/plain": [
       "        Artist              Song        Year  \\\n",
       "2         P!nk  Beautiful Trauma  2017-09-28   \n",
       "13  Katy Perry       Bon Appétit  2017-04-28   \n",
       "12  Katy Perry        Dark Horse  2013-10-18   \n",
       "\n",
       "                                               Lyrics  Sentiment_Score  \n",
       "2   [Verse 1]\\nWe were on fire\\nI slashed your tir...         0.336868  \n",
       "13  [Intro: Quavo]\\nAyy, yeah\\nKaty Perry, Migos\\n...         0.334970  \n",
       "12  [Intro: Juicy J]\\nYeah, ya'll know what it is\\...         0.293539  "
      ]
     },
     "execution_count": 11,
     "metadata": {},
     "output_type": "execute_result"
    }
   ],
   "source": [
    "songs_df.sort_values(\"Sentiment_Score\", ascending=False).head(3)"
   ]
  },
  {
   "cell_type": "markdown",
   "metadata": {},
   "source": [
    "### 2) Using Wikipedia api"
   ]
  },
  {
   "cell_type": "markdown",
   "metadata": {},
   "source": [
    "#### a) Get summary of wikipedia pages of the 3 artists above in russian (set language to russian) ."
   ]
  },
  {
   "cell_type": "code",
   "execution_count": 12,
   "metadata": {},
   "outputs": [
    {
     "data": {
      "text/plain": [
       "['Pink', 'Taylor Swift', 'Katy Perry']"
      ]
     },
     "execution_count": 12,
     "metadata": {},
     "output_type": "execute_result"
    }
   ],
   "source": [
    "artists"
   ]
  },
  {
   "cell_type": "code",
   "execution_count": 13,
   "metadata": {},
   "outputs": [],
   "source": [
    "wikipedia.set_lang('ru')"
   ]
  },
  {
   "cell_type": "code",
   "execution_count": 14,
   "metadata": {
    "scrolled": false
   },
   "outputs": [
    {
     "name": "stdout",
     "output_type": "stream",
     "text": [
      "Али́ша Бет Мур (англ. Alecia Beth Moore, 8 сентября 1979, Абингтон, Пенсильвания, США), более известна под псевдонимом Пинк (англ. Pink или P!nk) — американская певица, автор песен и актриса, ставшая популярной в начале 2000 года после выпуска альбома Can't Take Me Home.\n",
      "Выпустила свой первый сингл «There You Go», который вошёл в её альбом, записанный в стиле r'n'b — Can't Take Me Home. Альбом выпущен в 2000 году на лейбле LaFace Records и успешен. Её следующий альбом Missundaztood записан в стиле поп-рок и отличался от звучания предыдущего альбома. Диск выпущен в 2001 году и также успешен по всему миру.\n",
      "Пинк выпустила свой 3-й альбом Try This в ноябре 2003 года, который, хотя имел меньший коммерческий успех, чем предыдущий, распродан тиражом около 3 млн экземпляров, а за сингл с альбома «Trouble» певица получила премию Грэмми в номинации «Лучшая женская рок-песня». Её 4-й альбом под названием I'm Not Dead вышел в 2006 году. Из альбома выпущены несколько синглов, которые лидировали в хит-парадах — «Stupid Girls», «U + Ur Hand» и «Who Knew». Её 5-й альбом Funhouse выпущен в конце октября 2008 года, а после выпущен сингл «So What». Другие песни также попали в «двадцатку лучших» — «Sober», «Please Don't Leave Me» и «Glitter in the Air».\n",
      "Пинк — лучшая поп-артистка в период с 2000 по 2010 годы по рейтингу «Конечный Хит-парад Десятилетия» американского журнала Billboard. Она также находилась на 10-м месте хит-парада «Billboard Hot 100», в «двадцатке лучших» в США, выиграла 3 награды Грэмми, 5 наград MTV Video Music Awards и 2 награды Brit Awards.\n",
      "«Billboard Top 40 Money Makers» в Музыкальном отчёте за 2009 год написал, что Пинк стала 6-й в рейтинге самых оплачиваемых артистов в 2009 году, с доходом за год только в музыкальной сфере в 36 млн долларов.\n",
      "«People’s Chart» известил через радиостанцию BBC Radio 1, что Пинк — 11-я в рейтинге «Самых проигрываемых исполнителей на британском радио в период с 2000 по 2010 года», пропустив вперёд The Rolling Stones, Рода Стюарта, U2 и Майкла Джексона.\n",
      "19 апреля 2018 года Пинк стала самой красивой женщиной по версии журнала People, посвященного красоте, её фото появилось на обложке журнала. По итогам 2018 года Пинк заняла четвертую позицию в рейтинге самых высокооплачиваемых певиц мира-2018, опубликованном журналом Forbes. Её доход за 2018 год составил 60 миллионов долларов. \n",
      "\n",
      "------------\n",
      "Те́йлор Э́лисон Свифт (англ. Taylor Alison Swift; род. 13 декабря 1989, Рединг, Пенсильвания) — американская кантри-поп-исполнительница, автор песен и актриса.\n",
      "Второй альбом Свифт Fearless был выпущен в 2008 году и стал международным прорывом. Популярность синглов «Love Story» и «You Belong With Me» помогла Fearless занять первое место в чарте Billboard 200 и стать самым продаваемым альбомом 2009 года в США. Fearless получил четыре премии «Грэмми», включая главную номинацию «Альбом года», в которой Свифт стала самой молодой победительницей в истории.\n",
      "Выпущенный в 2010 году третий альбом Свифт Speak Now дебютировал на первом месте Billboard 200, разойдясь тиражом более одного миллиона копий за первую неделю. Сингл «Mean» стал обладателем «Грэмми» в двух номинациях.\n",
      "В 2012 году последовал релиз четвёртого студийного альбома Red, который дебютировал на первых местах в Австралии, Великобритании, Ирландии, Канаде, Новой Зеландии. Red также дебютировал с первого места в Billboard 200 с недельными продажами 1,2 млн копий, что стало наивысшим показателем за последние десять лет. Синглы «We Are Never Ever Getting Back Together» и «I Knew You Were Trouble» стали мировыми хитами.\n",
      "В январе 2010 года Nielsen SoundScan назвал её наиболее успешным цифровым исполнителем в истории музыки (34,3 млн цифровых продаж). Обладательница более 200 премий, в том числе десяти премий «Грэмми», девятнадцати American Music Awards, 1 Emmy, 1 BRIT Awards, 23 Billboard Music Awards и 25 Teen Choice Awards. В июне 2011 года Тейлор Свифт и Кэрри Андервуд стали единственными двумя представителями жанра кантри, вошедшими в список «Королевы поп-музыки» (англ. Queens of Pop) журнала Rolling Stone, с 26 млн копий альбомов и 75 млн синглов во всём мире. По данным на 2015 год она продала 40 млн альбомов по всему миру: 27,1 млн только в США и 130 млн синглов. Журнал Forbes поместил Свифт на второе место в списке самых высокооплачиваемых певиц 2015 года. В 2016 году её назвали самой высокооплачиваемой знаменитостью с доходом в 170 млн долларов. В 2017 году заняла третье место в списке самых высокооплачиваемых певиц, составленным журналом Forbes, который в августе 2018 года оценил её состояние в 320 млн долларов США. По итогам 2018 года Тейлор Свифт заняла вторую строчку рейтинга самых высокооплачиваемых певиц мира-2018, опубликованного журналом Forbes. Её доход за 2018 год составил 80 миллионов долларов. \n",
      "\n",
      "------------\n",
      "Кэ́трин Эли́забет Ха́дсон (англ. Katheryn Elizabeth Hudson), более известная как Кэ́ти Пе́рри (англ. Katy Perry; род. 25 октября 1984, Санта-Барбара, Калифорния, США) — американская певица, композитор, автор песен, актриса, посол доброй воли ООН.\n",
      "В апреле 2007 года Перри подписала контракт со звукозаписывающей компанией Capitol Records. Она стала широко известна во всем мире после выхода сингла «I Kissed a Girl» и альбома One of the Boys в 2008 году. Последующие синглы «Hot n Cold» и «Waking Up in Vegas» также пользовались широкой международной популярностью. Третий альбом Перри Teenage Dream вышел в сентябре 2010 года. С него были выпущено 6 синглов, 5 из которых достигли вершины США: «California Gurls», «Teenage Dream», «Firework», «E.T.», «Last Friday Night (T.G.I.F.)». Альбом Teenage Dream является первым альбомом среди исполнительниц, где пять синглов дошли до первой строчки чарта Billboard Hot 100 и вторым альбомом после Bad Майкла Джексона. В марте 2012 года Перри переиздала Teenage Dream под названием Teenage Dream: The Complete Confection. Первый сингл «Part of Me» дебютировал на первой строчке Billboard Hot 100. Он также возглавлял чарты Великобритании, Канады и Новой Зеландии. Её четвёртый альбом Prism вышел в октябре 2013 года. Он возглавил национальный альбомный чарт Billboard 200 в первую неделю продаж, а первый сингл «Roar» был мировым хитом, возглавив 17 чартов.\n",
      "Перри является обладательницей многочисленных наград, в том числе она была тринадцать раз номинирована на премию «Грэмми». В 2012 году музыкальное издание Billboard назвало её женщиной года. Она продолжает оставаться единственным артистом, кому удавалось провести 69 последовательных недель в лучшей десятке чарта Billboard Hot 100. Перри также названа третьим лучшим артистом цифровой эпохи, согласно статистике RIAA. Она также выпустила собственную парфюмерную линию: Purr, Meow, Killer Queen. В конце июля 2011 года Перри присоединилась к проекту «Смурфики», озвучив главную героиню — Смурфетту. Billboard поставил Перри на 14 место в обзоре самых высокооплачиваемых музыкантов 2011 года. В начале июля 2012 года она выпустила автобиографический документальный фильм «Кэти Перри: Частичка меня», в котором она повествует о последнем концертном туре The California Dreams Tour. На ноябрь 2013 года Перри продала 12 миллионов альбомов и 81 миллион синглов во всем мире.\n",
      "По состоянию на апрель 2019 года на официальный Youtube-канал Katy Perry подписано около 32 миллионов подписчиков, а сумма всех просмотров превышает 17 миллиардов, что является лучшим показателем за всю историю видеохостинга. \n",
      "\n",
      "------------\n"
     ]
    }
   ],
   "source": [
    "summaries = [wikipedia.summary(artist)for artist in artists]\n",
    "for s in summaries:\n",
    "    print(s, '\\n\\n------------',)"
   ]
  },
  {
   "cell_type": "markdown",
   "metadata": {},
   "source": [
    "#### b) What are the most common words in summary for each of them?"
   ]
  },
  {
   "cell_type": "code",
   "execution_count": 15,
   "metadata": {},
   "outputs": [],
   "source": [
    "artists_df = pd.DataFrame.from_dict({i: [artists[i], summaries[i]] for i in range(len(artists))}, \n",
    "                       orient='index', columns=['Artist', 'Summary'])"
   ]
  },
  {
   "cell_type": "code",
   "execution_count": 16,
   "metadata": {},
   "outputs": [
    {
     "data": {
      "text/html": [
       "<div>\n",
       "<style scoped>\n",
       "    .dataframe tbody tr th:only-of-type {\n",
       "        vertical-align: middle;\n",
       "    }\n",
       "\n",
       "    .dataframe tbody tr th {\n",
       "        vertical-align: top;\n",
       "    }\n",
       "\n",
       "    .dataframe thead th {\n",
       "        text-align: right;\n",
       "    }\n",
       "</style>\n",
       "<table border=\"1\" class=\"dataframe\">\n",
       "  <thead>\n",
       "    <tr style=\"text-align: right;\">\n",
       "      <th></th>\n",
       "      <th>Artist</th>\n",
       "      <th>Summary</th>\n",
       "    </tr>\n",
       "  </thead>\n",
       "  <tbody>\n",
       "    <tr>\n",
       "      <th>0</th>\n",
       "      <td>Pink</td>\n",
       "      <td>Али́ша Бет Мур (англ. Alecia Beth Moore, 8 сен...</td>\n",
       "    </tr>\n",
       "    <tr>\n",
       "      <th>1</th>\n",
       "      <td>Taylor Swift</td>\n",
       "      <td>Те́йлор Э́лисон Свифт (англ. Taylor Alison Swi...</td>\n",
       "    </tr>\n",
       "    <tr>\n",
       "      <th>2</th>\n",
       "      <td>Katy Perry</td>\n",
       "      <td>Кэ́трин Эли́забет Ха́дсон (англ. Katheryn Eliz...</td>\n",
       "    </tr>\n",
       "  </tbody>\n",
       "</table>\n",
       "</div>"
      ],
      "text/plain": [
       "         Artist                                            Summary\n",
       "0          Pink  Али́ша Бет Мур (англ. Alecia Beth Moore, 8 сен...\n",
       "1  Taylor Swift  Те́йлор Э́лисон Свифт (англ. Taylor Alison Swi...\n",
       "2    Katy Perry  Кэ́трин Эли́забет Ха́дсон (англ. Katheryn Eliz..."
      ]
     },
     "execution_count": 16,
     "metadata": {},
     "output_type": "execute_result"
    }
   ],
   "source": [
    "artists_df"
   ]
  },
  {
   "cell_type": "code",
   "execution_count": 17,
   "metadata": {},
   "outputs": [
    {
     "name": "stdout",
     "output_type": "stream",
     "text": [
      "!\"#$%&'()*+,-./:;<=>?@[\\]^_`{|}~\n"
     ]
    }
   ],
   "source": [
    "sw = stopwords.words('russian')\n",
    "print(punctuation)"
   ]
  },
  {
   "cell_type": "code",
   "execution_count": 18,
   "metadata": {},
   "outputs": [],
   "source": [
    "summaries_edited = [s.replace('\\n', ' ').replace('«', ' ').replace('»', ' ').replace('—', ' ').replace(',', ' ')\n",
    "                    for s in summaries]"
   ]
  },
  {
   "cell_type": "code",
   "execution_count": 19,
   "metadata": {},
   "outputs": [],
   "source": [
    "mystem = Mystem() \n",
    "\n",
    "def text_lemmatizer(text):\n",
    "    text = mystem.lemmatize(text.lower())\n",
    "    words = [word.strip() for word in text if word not in sw and word != \" \" \n",
    "              and word.strip() not in punctuation and len(word) > 1]\n",
    "    return words"
   ]
  },
  {
   "cell_type": "markdown",
   "metadata": {},
   "source": [
    "Most common words in the summaries:"
   ]
  },
  {
   "cell_type": "code",
   "execution_count": 20,
   "metadata": {},
   "outputs": [
    {
     "name": "stdout",
     "output_type": "stream",
     "text": [
      "Pink \n",
      "------------\n",
      " [('год', 14), ('альбом', 10), ('пинк', 7), ('выпускать', 7), ('2000', 4), ('сингл', 4)] \n",
      "\n",
      "Taylor Swift \n",
      "------------\n",
      " [('год', 15), ('млн', 9), ('свифт', 7), ('альбом', 7), ('становиться', 7), ('место', 6)] \n",
      "\n",
      "Katy Perry \n",
      "------------\n",
      " [('год', 12), ('перри', 10), ('сингл', 7), ('альбом', 7), ('первый', 6), ('billboard', 6)] \n",
      "\n"
     ]
    }
   ],
   "source": [
    "for i in range(3):\n",
    "    a = text_lemmatizer(summaries_edited[i])\n",
    "    print(artists[i], '\\n------------\\n', Counter(a).most_common(6), '\\n')"
   ]
  },
  {
   "cell_type": "markdown",
   "metadata": {},
   "source": [
    "### 3) Create a class of a human that has data attribute \"nationality\" as Armenian (i.e. the general variable).\n",
    "#### a) Make sure that the instances of human class have arguments name, surname, profession and salary (inside init).\n",
    "#### b) The class defined must have a method that returns an expression in this format: \"Hi, I am \"name\" ,\"surname\". I am a/an \"profession\" and I earn \"salary\" a month.\" (inside the quote values such as name and surname the relevant attributes of that person should be used."
   ]
  },
  {
   "cell_type": "code",
   "execution_count": 21,
   "metadata": {},
   "outputs": [],
   "source": [
    "class human:\n",
    "    nationality = 'Armenian'\n",
    "    def __init__(self, name, surname, profession, salary):\n",
    "        self.name = name\n",
    "        self.surname = surname\n",
    "        self.profession = profession\n",
    "        self.salary = salary\n",
    "    def greeting(self):\n",
    "        return \"Hi, I am \" + self.name + \" \" + self.surname + \". I am a/an \" + self.profession + \" and I earn $\" + self.salary + \" a month.\"        "
   ]
  },
  {
   "cell_type": "markdown",
   "metadata": {},
   "source": [
    "#### c) Create one or more objects of the class and execute the class method defined on point b)."
   ]
  },
  {
   "cell_type": "code",
   "execution_count": 22,
   "metadata": {},
   "outputs": [],
   "source": [
    "Poghos_P = human('Poghos', 'Petrosyan', 'actor', '1000')"
   ]
  },
  {
   "cell_type": "code",
   "execution_count": 23,
   "metadata": {},
   "outputs": [
    {
     "data": {
      "text/plain": [
       "'Hi, I am Poghos Petrosyan. I am a/an actor and I earn $1000 a month.'"
      ]
     },
     "execution_count": 23,
     "metadata": {},
     "output_type": "execute_result"
    }
   ],
   "source": [
    "Poghos_P.greeting()"
   ]
  },
  {
   "cell_type": "code",
   "execution_count": 24,
   "metadata": {},
   "outputs": [
    {
     "data": {
      "text/plain": [
       "'Armenian'"
      ]
     },
     "execution_count": 24,
     "metadata": {},
     "output_type": "execute_result"
    }
   ],
   "source": [
    "Poghos_P.nationality"
   ]
  },
  {
   "cell_type": "code",
   "execution_count": 25,
   "metadata": {},
   "outputs": [],
   "source": [
    "Mariam_G = human('Mariam', 'Gasoyan', 'student', '0')"
   ]
  },
  {
   "cell_type": "code",
   "execution_count": 26,
   "metadata": {},
   "outputs": [
    {
     "data": {
      "text/plain": [
       "'Hi, I am Mariam Gasoyan. I am a/an student and I earn $0 a month.'"
      ]
     },
     "execution_count": 26,
     "metadata": {},
     "output_type": "execute_result"
    }
   ],
   "source": [
    "Mariam_G.greeting()"
   ]
  },
  {
   "cell_type": "code",
   "execution_count": 27,
   "metadata": {},
   "outputs": [
    {
     "data": {
      "text/plain": [
       "'Armenian'"
      ]
     },
     "execution_count": 27,
     "metadata": {},
     "output_type": "execute_result"
    }
   ],
   "source": [
    "Mariam_G.nationality"
   ]
  }
 ],
 "metadata": {
  "kernelspec": {
   "display_name": "Python 3",
   "language": "python",
   "name": "python3"
  },
  "language_info": {
   "codemirror_mode": {
    "name": "ipython",
    "version": 3
   },
   "file_extension": ".py",
   "mimetype": "text/x-python",
   "name": "python",
   "nbconvert_exporter": "python",
   "pygments_lexer": "ipython3",
   "version": "3.7.3"
  }
 },
 "nbformat": 4,
 "nbformat_minor": 2
}
