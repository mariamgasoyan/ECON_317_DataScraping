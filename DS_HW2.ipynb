{
 "cells": [
  {
   "cell_type": "markdown",
   "metadata": {},
   "source": [
    "### Mariam Gasoyan\n",
    "# Homework 2"
   ]
  },
  {
   "cell_type": "markdown",
   "metadata": {},
   "source": [
    "http://books.toscrape.com/catalogue/page-1.html"
   ]
  },
  {
   "cell_type": "code",
   "execution_count": 1,
   "metadata": {},
   "outputs": [],
   "source": [
    "import requests\n",
    "from scrapy.http import TextResponse\n",
    "import time\n",
    "import re\n",
    "from word2number import w2n\n",
    "from statistics import mode\n",
    "import re"
   ]
  },
  {
   "cell_type": "markdown",
   "metadata": {},
   "source": [
    "## Part 1."
   ]
  },
  {
   "cell_type": "code",
   "execution_count": 2,
   "metadata": {},
   "outputs": [
    {
     "name": "stdout",
     "output_type": "stream",
     "text": [
      "http://books.toscrape.com/catalogue/page-1.html \n",
      " http://books.toscrape.com/catalogue/page-50.html\n"
     ]
    }
   ],
   "source": [
    "all_urls = ['http://books.toscrape.com/catalogue/page-{}.html'.format(i) for i in range(1,51)]\n",
    "print(all_urls[0], '\\n', all_urls[-1])"
   ]
  },
  {
   "cell_type": "code",
   "execution_count": 3,
   "metadata": {},
   "outputs": [],
   "source": [
    "response = requests.get(all_urls[0])"
   ]
  },
  {
   "cell_type": "code",
   "execution_count": 4,
   "metadata": {},
   "outputs": [
    {
     "data": {
      "text/plain": [
       "'http://books.toscrape.com/catalogue/page-1.html'"
      ]
     },
     "execution_count": 4,
     "metadata": {},
     "output_type": "execute_result"
    }
   ],
   "source": [
    "response.url"
   ]
  },
  {
   "cell_type": "code",
   "execution_count": 5,
   "metadata": {},
   "outputs": [
    {
     "data": {
      "text/plain": [
       "200"
      ]
     },
     "execution_count": 5,
     "metadata": {},
     "output_type": "execute_result"
    }
   ],
   "source": [
    "response.status_code"
   ]
  },
  {
   "cell_type": "markdown",
   "metadata": {},
   "source": [
    "### CSS approach"
   ]
  },
  {
   "cell_type": "markdown",
   "metadata": {},
   "source": [
    "#### Scraping all the book Titles (without functions)"
   ]
  },
  {
   "cell_type": "code",
   "execution_count": 6,
   "metadata": {},
   "outputs": [],
   "source": [
    "all_books_css_1 = []\n",
    "for url in all_urls:\n",
    "    response = requests.get(url)\n",
    "    page = TextResponse(url = response.url, body = response.text, encoding = \"utf-8\")\n",
    "    books = page.css('a::attr(title)').extract()\n",
    "    all_books_css_1.extend(books)\n",
    "    time.sleep(1)"
   ]
  },
  {
   "cell_type": "code",
   "execution_count": 7,
   "metadata": {},
   "outputs": [
    {
     "data": {
      "text/plain": [
       "[\"Bridget Jones's Diary (Bridget Jones #1)\",\n",
       " 'Bounty (Colorado Mountain #7)',\n",
       " 'Blood Defense (Samantha Brinkman #1)',\n",
       " 'Bleach, Vol. 1: Strawberry and the Soul Reapers (Bleach #1)',\n",
       " 'Beyond Good and Evil',\n",
       " \"Alice in Wonderland (Alice's Adventures in Wonderland #1)\",\n",
       " 'Ajin: Demi-Human, Volume 1 (Ajin: Demi-Human #1)',\n",
       " \"A Spy's Devotion (The Regency Spies of London #1)\",\n",
       " \"1st to Die (Women's Murder Club #1)\",\n",
       " '1,000 Places to See Before You Die']"
      ]
     },
     "execution_count": 7,
     "metadata": {},
     "output_type": "execute_result"
    }
   ],
   "source": [
    "all_books_css_1[990:1000]"
   ]
  },
  {
   "cell_type": "markdown",
   "metadata": {},
   "source": [
    "#### With a function"
   ]
  },
  {
   "cell_type": "code",
   "execution_count": 8,
   "metadata": {},
   "outputs": [],
   "source": [
    "def TitleScraper_css(url):\n",
    "    response = requests.get(url)\n",
    "    page = TextResponse(url = response.url, body = response.text, encoding = \"utf-8\")\n",
    "    books = page.css('a::attr(title)').extract()\n",
    "    return books"
   ]
  },
  {
   "cell_type": "code",
   "execution_count": 9,
   "metadata": {},
   "outputs": [],
   "source": [
    "all_books_css_2 = []\n",
    "for url in all_urls:\n",
    "    titles = TitleScraper_css(url)\n",
    "    all_books_css_2.extend(titles)\n",
    "    time.sleep(1)"
   ]
  },
  {
   "cell_type": "code",
   "execution_count": 10,
   "metadata": {},
   "outputs": [
    {
     "data": {
      "text/plain": [
       "[\"Bridget Jones's Diary (Bridget Jones #1)\",\n",
       " 'Bounty (Colorado Mountain #7)',\n",
       " 'Blood Defense (Samantha Brinkman #1)',\n",
       " 'Bleach, Vol. 1: Strawberry and the Soul Reapers (Bleach #1)',\n",
       " 'Beyond Good and Evil',\n",
       " \"Alice in Wonderland (Alice's Adventures in Wonderland #1)\",\n",
       " 'Ajin: Demi-Human, Volume 1 (Ajin: Demi-Human #1)',\n",
       " \"A Spy's Devotion (The Regency Spies of London #1)\",\n",
       " \"1st to Die (Women's Murder Club #1)\",\n",
       " '1,000 Places to See Before You Die']"
      ]
     },
     "execution_count": 10,
     "metadata": {},
     "output_type": "execute_result"
    }
   ],
   "source": [
    "all_books_css_2[990:1000]"
   ]
  },
  {
   "cell_type": "markdown",
   "metadata": {},
   "source": [
    "#### Prices of the books (without functions)"
   ]
  },
  {
   "cell_type": "code",
   "execution_count": 11,
   "metadata": {},
   "outputs": [],
   "source": [
    "all_prices_css1 = []\n",
    "for url in all_urls:\n",
    "    response = requests.get(url)\n",
    "    page = TextResponse(url = response.url, body = response.text, encoding = \"utf-8\")\n",
    "    prices = page.css(\"p[class='price_color']::text\").extract()\n",
    "    all_prices_css1.extend(prices)\n",
    "    time.sleep(2)"
   ]
  },
  {
   "cell_type": "code",
   "execution_count": 12,
   "metadata": {},
   "outputs": [
    {
     "data": {
      "text/plain": [
       "1000"
      ]
     },
     "execution_count": 12,
     "metadata": {},
     "output_type": "execute_result"
    }
   ],
   "source": [
    "len(all_prices_css1)"
   ]
  },
  {
   "cell_type": "code",
   "execution_count": 13,
   "metadata": {},
   "outputs": [],
   "source": [
    "for i in range(len(all_prices_css1)):    \n",
    "    all_prices_css1[i] = float(all_prices_css1[i].replace('Â£',''))"
   ]
  },
  {
   "cell_type": "code",
   "execution_count": 14,
   "metadata": {},
   "outputs": [
    {
     "data": {
      "text/plain": [
       "[51.77, 53.74, 50.1, 47.82, 54.23, 22.65, 33.34, 17.93, 22.6, 52.15]"
      ]
     },
     "execution_count": 14,
     "metadata": {},
     "output_type": "execute_result"
    }
   ],
   "source": [
    "all_prices_css1[:10]"
   ]
  },
  {
   "cell_type": "markdown",
   "metadata": {},
   "source": [
    "#### With a function "
   ]
  },
  {
   "cell_type": "code",
   "execution_count": 15,
   "metadata": {},
   "outputs": [],
   "source": [
    "def PriceScraper_css(url):\n",
    "    response = requests.get(url)\n",
    "    page = TextResponse(url = response.url, body = response.text, encoding = \"utf-8\")\n",
    "    prices = page.css(\"p[class='price_color']::text\").extract()\n",
    "    return prices"
   ]
  },
  {
   "cell_type": "code",
   "execution_count": 16,
   "metadata": {},
   "outputs": [],
   "source": [
    "all_prices_css2 = []\n",
    "for url in all_urls:\n",
    "    price_list = PriceScraper_css(url)\n",
    "    all_prices_css2.extend(price_list)\n",
    "    time.sleep(2)"
   ]
  },
  {
   "cell_type": "code",
   "execution_count": 17,
   "metadata": {},
   "outputs": [
    {
     "data": {
      "text/plain": [
       "['Â£51.77',\n",
       " 'Â£53.74',\n",
       " 'Â£50.10',\n",
       " 'Â£47.82',\n",
       " 'Â£54.23',\n",
       " 'Â£22.65',\n",
       " 'Â£33.34',\n",
       " 'Â£17.93',\n",
       " 'Â£22.60',\n",
       " 'Â£52.15']"
      ]
     },
     "execution_count": 17,
     "metadata": {},
     "output_type": "execute_result"
    }
   ],
   "source": [
    "all_prices_css2[:10]"
   ]
  },
  {
   "cell_type": "code",
   "execution_count": 18,
   "metadata": {},
   "outputs": [],
   "source": [
    "for i in range(len(all_prices_css1)):    \n",
    "    all_prices_css2[i] = float(all_prices_css2[i].replace('Â£',''))"
   ]
  },
  {
   "cell_type": "code",
   "execution_count": 19,
   "metadata": {},
   "outputs": [
    {
     "data": {
      "text/plain": [
       "[51.77, 53.74, 50.1, 47.82, 54.23, 22.65, 33.34, 17.93, 22.6, 52.15]"
      ]
     },
     "execution_count": 19,
     "metadata": {},
     "output_type": "execute_result"
    }
   ],
   "source": [
    "all_prices_css2[:10]"
   ]
  },
  {
   "cell_type": "markdown",
   "metadata": {},
   "source": [
    "#### Ratings of the books (without functions)"
   ]
  },
  {
   "cell_type": "code",
   "execution_count": 20,
   "metadata": {},
   "outputs": [],
   "source": [
    "ratings = []"
   ]
  },
  {
   "cell_type": "code",
   "execution_count": 21,
   "metadata": {},
   "outputs": [],
   "source": [
    "response = requests.get(all_urls[0])\n",
    "page = TextResponse(url = response.url, body = response.text, encoding = \"utf-8\")\n",
    "page_draft = page.css(\"p\").extract()"
   ]
  },
  {
   "cell_type": "code",
   "execution_count": 22,
   "metadata": {},
   "outputs": [],
   "source": [
    "ratings_draft = []"
   ]
  },
  {
   "cell_type": "code",
   "execution_count": 23,
   "metadata": {},
   "outputs": [],
   "source": [
    "for i in range(len(page_draft)):\n",
    "    ratings_draft.extend(re.findall('star-rating .....', page_draft[i]))"
   ]
  },
  {
   "cell_type": "code",
   "execution_count": 24,
   "metadata": {},
   "outputs": [
    {
     "data": {
      "text/plain": [
       "['star-rating Three',\n",
       " 'star-rating One\">',\n",
       " 'star-rating One\">',\n",
       " 'star-rating Four\"',\n",
       " 'star-rating Five\"',\n",
       " 'star-rating One\">',\n",
       " 'star-rating Four\"',\n",
       " 'star-rating Three',\n",
       " 'star-rating Four\"',\n",
       " 'star-rating One\">',\n",
       " 'star-rating Two\">',\n",
       " 'star-rating Four\"',\n",
       " 'star-rating Five\"',\n",
       " 'star-rating Five\"',\n",
       " 'star-rating Five\"',\n",
       " 'star-rating Three',\n",
       " 'star-rating One\">',\n",
       " 'star-rating One\">',\n",
       " 'star-rating Two\">',\n",
       " 'star-rating Two\">']"
      ]
     },
     "execution_count": 24,
     "metadata": {},
     "output_type": "execute_result"
    }
   ],
   "source": [
    "ratings_draft"
   ]
  },
  {
   "cell_type": "code",
   "execution_count": 25,
   "metadata": {
    "scrolled": true
   },
   "outputs": [
    {
     "data": {
      "text/plain": [
       "['Three',\n",
       " 'One',\n",
       " 'One',\n",
       " 'Four',\n",
       " 'Five',\n",
       " 'One',\n",
       " 'Four',\n",
       " 'Three',\n",
       " 'Four',\n",
       " 'One',\n",
       " 'Two',\n",
       " 'Four',\n",
       " 'Five',\n",
       " 'Five',\n",
       " 'Five',\n",
       " 'Three',\n",
       " 'One',\n",
       " 'One',\n",
       " 'Two',\n",
       " 'Two']"
      ]
     },
     "execution_count": 25,
     "metadata": {},
     "output_type": "execute_result"
    }
   ],
   "source": [
    "for r in range(len(ratings_draft)):\n",
    "    ratings.append(ratings_draft[r][12:].replace('\"','').replace('>',''))\n",
    "ratings"
   ]
  },
  {
   "cell_type": "markdown",
   "metadata": {},
   "source": [
    "#### With a function"
   ]
  },
  {
   "cell_type": "code",
   "execution_count": 26,
   "metadata": {},
   "outputs": [],
   "source": [
    "def RatingScraper_css(url):\n",
    "    ratings = []\n",
    "    response = requests.get(url)\n",
    "    page = TextResponse(url = response.url, body = response.text, encoding = \"utf-8\")\n",
    "    page_draft = page.css(\"p\").extract()\n",
    "    ratings_draft = []\n",
    "    for i in range(len(page_draft)):\n",
    "        ratings_draft.extend(re.findall('star-rating .....', page_draft[i]))\n",
    "    for r in range(len(ratings_draft)):\n",
    "        ratings.append(ratings_draft[r][12:].replace('\"','').replace('>',''))\n",
    "    return ratings"
   ]
  },
  {
   "cell_type": "code",
   "execution_count": 27,
   "metadata": {},
   "outputs": [
    {
     "name": "stdout",
     "output_type": "stream",
     "text": [
      "1000\n",
      "['Two', 'Four', 'One', 'Five', 'One']\n"
     ]
    }
   ],
   "source": [
    "all_ratings_css = []\n",
    "\n",
    "for url in all_urls:\n",
    "    curr_page_ratings = RatingScraper_css(url)\n",
    "    all_ratings_css.extend(curr_page_ratings)\n",
    "    time.sleep(2)\n",
    "    \n",
    "print(len(all_ratings_css))\n",
    "print(all_ratings_css[550:555])\n"
   ]
  },
  {
   "cell_type": "markdown",
   "metadata": {},
   "source": [
    "### Xpath approach"
   ]
  },
  {
   "cell_type": "markdown",
   "metadata": {},
   "source": [
    "#### Extracting Titles with Xpath"
   ]
  },
  {
   "cell_type": "code",
   "execution_count": 28,
   "metadata": {},
   "outputs": [],
   "source": [
    "all_books_xpath = []"
   ]
  },
  {
   "cell_type": "code",
   "execution_count": 29,
   "metadata": {},
   "outputs": [],
   "source": [
    "def TitleScraper_xpath(url):\n",
    "    response = requests.get(url)\n",
    "    response = TextResponse(url = response.url, body = response.text, encoding = \"utf-8\")\n",
    "    books = response.xpath('//a/@title').extract()\n",
    "    return books"
   ]
  },
  {
   "cell_type": "code",
   "execution_count": 30,
   "metadata": {},
   "outputs": [],
   "source": [
    "for url in all_urls:\n",
    "    all_books_xpath.extend(TitleScraper_xpath(url))\n",
    "    "
   ]
  },
  {
   "cell_type": "code",
   "execution_count": 31,
   "metadata": {},
   "outputs": [
    {
     "data": {
      "text/plain": [
       "True"
      ]
     },
     "execution_count": 31,
     "metadata": {},
     "output_type": "execute_result"
    }
   ],
   "source": [
    "all_books_xpath == all_books_css_1 == all_books_css_2"
   ]
  },
  {
   "cell_type": "markdown",
   "metadata": {},
   "source": [
    "#### Prices"
   ]
  },
  {
   "cell_type": "code",
   "execution_count": 32,
   "metadata": {},
   "outputs": [],
   "source": [
    "all_prices_xpath = []"
   ]
  },
  {
   "cell_type": "code",
   "execution_count": 33,
   "metadata": {},
   "outputs": [],
   "source": [
    "def PriceScraper_xpath(url):\n",
    "    response = requests.get(url)\n",
    "    response = TextResponse(url = response.url, body = response.text, encoding = \"utf-8\")\n",
    "    prices = response.xpath('//p[@class=\"price_color\"]/text()').extract()\n",
    "    return prices"
   ]
  },
  {
   "cell_type": "code",
   "execution_count": 34,
   "metadata": {},
   "outputs": [],
   "source": [
    "for url in all_urls:\n",
    "    all_prices_xpath.extend(PriceScraper_xpath(url))"
   ]
  },
  {
   "cell_type": "code",
   "execution_count": 35,
   "metadata": {},
   "outputs": [
    {
     "data": {
      "text/plain": [
       "['Â£51.77',\n",
       " 'Â£53.74',\n",
       " 'Â£50.10',\n",
       " 'Â£47.82',\n",
       " 'Â£54.23',\n",
       " 'Â£22.65',\n",
       " 'Â£33.34',\n",
       " 'Â£17.93',\n",
       " 'Â£22.60',\n",
       " 'Â£52.15']"
      ]
     },
     "execution_count": 35,
     "metadata": {},
     "output_type": "execute_result"
    }
   ],
   "source": [
    "all_prices_xpath[:10]"
   ]
  },
  {
   "cell_type": "code",
   "execution_count": 36,
   "metadata": {},
   "outputs": [],
   "source": [
    "for i in range(len(all_prices_xpath)):\n",
    "    all_prices_xpath[i] = float(all_prices_xpath[i].replace('Â£',''))"
   ]
  },
  {
   "cell_type": "code",
   "execution_count": 37,
   "metadata": {},
   "outputs": [
    {
     "data": {
      "text/plain": [
       "[51.77, 53.74, 50.1, 47.82, 54.23, 22.65, 33.34, 17.93, 22.6, 52.15]"
      ]
     },
     "execution_count": 37,
     "metadata": {},
     "output_type": "execute_result"
    }
   ],
   "source": [
    "all_prices_xpath[:10]"
   ]
  },
  {
   "cell_type": "code",
   "execution_count": 38,
   "metadata": {},
   "outputs": [
    {
     "data": {
      "text/plain": [
       "True"
      ]
     },
     "execution_count": 38,
     "metadata": {},
     "output_type": "execute_result"
    }
   ],
   "source": [
    "all_prices_xpath == all_prices_css1 == all_prices_css2"
   ]
  },
  {
   "cell_type": "markdown",
   "metadata": {},
   "source": [
    "#### Ratings"
   ]
  },
  {
   "cell_type": "code",
   "execution_count": 39,
   "metadata": {},
   "outputs": [],
   "source": [
    "all_ratings_xpath = []"
   ]
  },
  {
   "cell_type": "code",
   "execution_count": 40,
   "metadata": {},
   "outputs": [],
   "source": [
    "def RatingScraper(url):\n",
    "    ratings = []\n",
    "    response = requests.get(url)\n",
    "    page = TextResponse(url = response.url, body = response.text, encoding = \"utf-8\")\n",
    "    ratings_draft = page.xpath('//article/p/@class').extract()\n",
    "    for r in range(len(ratings_draft)):\n",
    "        ratings.append(ratings_draft[r][12:].replace('\"','').replace('>',''))\n",
    "    return ratings"
   ]
  },
  {
   "cell_type": "code",
   "execution_count": 41,
   "metadata": {},
   "outputs": [],
   "source": [
    "for url in all_urls:\n",
    "    curr_page_ratings = RatingScraper(url)\n",
    "    all_ratings_xpath.extend(curr_page_ratings)\n",
    "    #time.sleep(2)"
   ]
  },
  {
   "cell_type": "code",
   "execution_count": 42,
   "metadata": {},
   "outputs": [
    {
     "data": {
      "text/plain": [
       "True"
      ]
     },
     "execution_count": 42,
     "metadata": {},
     "output_type": "execute_result"
    }
   ],
   "source": [
    "all_ratings_xpath == all_ratings_css"
   ]
  },
  {
   "cell_type": "code",
   "execution_count": 43,
   "metadata": {},
   "outputs": [],
   "source": [
    "all_ratings_num = []\n",
    "for r in all_ratings_xpath:\n",
    "    num = w2n.word_to_num(r)\n",
    "    all_ratings_num.append(num)"
   ]
  },
  {
   "cell_type": "code",
   "execution_count": 44,
   "metadata": {},
   "outputs": [
    {
     "name": "stdout",
     "output_type": "stream",
     "text": [
      "['Three', 'One', 'One', 'Four', 'Five', 'One', 'Four', 'Three', 'Four', 'One']\n",
      "[3, 1, 1, 4, 5, 1, 4, 3, 4, 1] <class 'int'>\n"
     ]
    }
   ],
   "source": [
    "print(all_ratings_xpath[:10])\n",
    "print(all_ratings_num[:10], type(all_ratings_num[0]))"
   ]
  },
  {
   "cell_type": "markdown",
   "metadata": {},
   "source": [
    "## Part 2"
   ]
  },
  {
   "cell_type": "markdown",
   "metadata": {},
   "source": [
    "#### a) Most popular rating:\n",
    "Answer: most popular (most frequent) rating: \"One\"\n",
    "        <br> average rating ~ 2.92"
   ]
  },
  {
   "cell_type": "code",
   "execution_count": 45,
   "metadata": {},
   "outputs": [
    {
     "name": "stdout",
     "output_type": "stream",
     "text": [
      "1\n",
      "One\n"
     ]
    }
   ],
   "source": [
    "print(mode(all_ratings_num))\n",
    "print(mode(all_ratings_xpath))"
   ]
  },
  {
   "cell_type": "markdown",
   "metadata": {},
   "source": [
    "Average rating:"
   ]
  },
  {
   "cell_type": "code",
   "execution_count": 46,
   "metadata": {},
   "outputs": [
    {
     "data": {
      "text/plain": [
       "2.923"
      ]
     },
     "execution_count": 46,
     "metadata": {},
     "output_type": "execute_result"
    }
   ],
   "source": [
    "sum(all_ratings_num)/len(all_ratings_num)"
   ]
  },
  {
   "cell_type": "markdown",
   "metadata": {},
   "source": [
    "#### b) \tHow\tmany books on the website\thave that rating? \n",
    "Answer: 226"
   ]
  },
  {
   "cell_type": "code",
   "execution_count": 47,
   "metadata": {},
   "outputs": [
    {
     "data": {
      "text/plain": [
       "226"
      ]
     },
     "execution_count": 47,
     "metadata": {},
     "output_type": "execute_result"
    }
   ],
   "source": [
    "all_ratings_xpath.count('One')"
   ]
  },
  {
   "cell_type": "markdown",
   "metadata": {},
   "source": [
    "#### c) Average price of 'one-star' books\n",
    "Answer: 34.56"
   ]
  },
  {
   "cell_type": "code",
   "execution_count": 48,
   "metadata": {},
   "outputs": [],
   "source": [
    "indices = []\n",
    "for i in range(len(all_ratings_num)):\n",
    "    if all_ratings_num[i]== 1:\n",
    "        indices.append(i)"
   ]
  },
  {
   "cell_type": "code",
   "execution_count": 49,
   "metadata": {},
   "outputs": [
    {
     "data": {
      "text/plain": [
       "226"
      ]
     },
     "execution_count": 49,
     "metadata": {},
     "output_type": "execute_result"
    }
   ],
   "source": [
    "len(indices)"
   ]
  },
  {
   "cell_type": "code",
   "execution_count": 50,
   "metadata": {},
   "outputs": [],
   "source": [
    "sum_of_oneStars = 0\n",
    "\n",
    "for i in indices:\n",
    "    sum_of_oneStars += all_prices_xpath[i]"
   ]
  },
  {
   "cell_type": "code",
   "execution_count": 51,
   "metadata": {},
   "outputs": [
    {
     "data": {
      "text/plain": [
       "34.5611946902655"
      ]
     },
     "execution_count": 51,
     "metadata": {},
     "output_type": "execute_result"
    }
   ],
   "source": [
    "mean_price = sum_of_oneStars/len(indices)\n",
    "mean_price"
   ]
  },
  {
   "cell_type": "markdown",
   "metadata": {},
   "source": [
    "## Part 3"
   ]
  },
  {
   "cell_type": "code",
   "execution_count": 52,
   "metadata": {},
   "outputs": [],
   "source": [
    "def Book_URL_Scraper(url):\n",
    "    response = requests.get(url)\n",
    "    response = TextResponse(url = response.url, body = response.text, encoding = \"utf-8\")\n",
    "    url_list = response.xpath('//h3/a/@href').extract()\n",
    "    return url_list"
   ]
  },
  {
   "cell_type": "code",
   "execution_count": 53,
   "metadata": {},
   "outputs": [],
   "source": [
    "all_book_URLs_draft = []"
   ]
  },
  {
   "cell_type": "code",
   "execution_count": 54,
   "metadata": {},
   "outputs": [],
   "source": [
    "for url in all_urls:\n",
    "    x = Book_URL_Scraper(url)\n",
    "    all_book_URLs_draft.extend(x)\n",
    "    time.sleep(2)"
   ]
  },
  {
   "cell_type": "code",
   "execution_count": 55,
   "metadata": {},
   "outputs": [
    {
     "data": {
      "text/plain": [
       "['a-light-in-the-attic_1000/index.html',\n",
       " 'tipping-the-velvet_999/index.html',\n",
       " 'soumission_998/index.html',\n",
       " 'sharp-objects_997/index.html',\n",
       " 'sapiens-a-brief-history-of-humankind_996/index.html']"
      ]
     },
     "execution_count": 55,
     "metadata": {},
     "output_type": "execute_result"
    }
   ],
   "source": [
    "all_book_URLs_draft[:5]"
   ]
  },
  {
   "cell_type": "code",
   "execution_count": 56,
   "metadata": {},
   "outputs": [],
   "source": [
    "all_book_URLs = []\n",
    "for url in all_book_URLs_draft:\n",
    "    all_book_URLs.append(\"http://books.toscrape.com/catalogue/\" + url)"
   ]
  },
  {
   "cell_type": "code",
   "execution_count": 57,
   "metadata": {},
   "outputs": [
    {
     "data": {
      "text/plain": [
       "['http://books.toscrape.com/catalogue/a-light-in-the-attic_1000/index.html',\n",
       " 'http://books.toscrape.com/catalogue/tipping-the-velvet_999/index.html',\n",
       " 'http://books.toscrape.com/catalogue/soumission_998/index.html']"
      ]
     },
     "execution_count": 57,
     "metadata": {},
     "output_type": "execute_result"
    }
   ],
   "source": [
    "all_book_URLs[:3]"
   ]
  },
  {
   "cell_type": "code",
   "execution_count": 58,
   "metadata": {},
   "outputs": [],
   "source": [
    "def DescScraper(url):\n",
    "    response = requests.get(url)\n",
    "    response = TextResponse(url = response.url, body = response.text, encoding = \"utf-8\")\n",
    "    desc_list = response.xpath('//article/p/text()').extract()\n",
    "    return desc_list[0]"
   ]
  },
  {
   "cell_type": "code",
   "execution_count": 59,
   "metadata": {},
   "outputs": [],
   "source": [
    "all_book_desc = []"
   ]
  },
  {
   "cell_type": "code",
   "execution_count": 60,
   "metadata": {},
   "outputs": [],
   "source": [
    "for url in all_book_URLs:\n",
    "    x = DescScraper(url)\n",
    "    all_book_desc.append(x)"
   ]
  },
  {
   "cell_type": "code",
   "execution_count": 61,
   "metadata": {},
   "outputs": [
    {
     "data": {
      "text/plain": [
       "[\"It's hard to imagine a world without A Light in the Attic. This now-classic collection of poetry and drawings from Shel Silverstein celebrates its 20th anniversary with this special edition. Silverstein's humorous and creative verse can amuse the dowdiest of readers. Lemon-faced adults and fidgety kids sit still and read these rhythmic words and laugh and smile and love th It's hard to imagine a world without A Light in the Attic. This now-classic collection of poetry and drawings from Shel Silverstein celebrates its 20th anniversary with this special edition. Silverstein's humorous and creative verse can amuse the dowdiest of readers. Lemon-faced adults and fidgety kids sit still and read these rhythmic words and laugh and smile and love that Silverstein. Need proof of his genius? RockabyeRockabye baby, in the treetopDon't you know a treetopIs no safe place to rock?And who put you up there,And your cradle, too?Baby, I think someone down here'sGot it in for you. Shel, you never sounded so good. ...more\",\n",
       " '\"Erotic and absorbing...Written with starling power.\"--\"The New York Times Book Review \" Nan King, an oyster girl, is captivated by the music hall phenomenon Kitty Butler, a male impersonator extraordinaire treading the boards in Canterbury. Through a friend at the box office, Nan manages to visit all her shows and finally meet her heroine. Soon after, she becomes Kitty\\'s \"Erotic and absorbing...Written with starling power.\"--\"The New York Times Book Review \" Nan King, an oyster girl, is captivated by the music hall phenomenon Kitty Butler, a male impersonator extraordinaire treading the boards in Canterbury. Through a friend at the box office, Nan manages to visit all her shows and finally meet her heroine. Soon after, she becomes Kitty\\'s dresser and the two head for the bright lights of Leicester Square where they begin a glittering career as music-hall stars in an all-singing and dancing double act. At the same time, behind closed doors, they admit their attraction to each other and their affair begins. ...more']"
      ]
     },
     "execution_count": 61,
     "metadata": {},
     "output_type": "execute_result"
    }
   ],
   "source": [
    "all_book_desc[:2]"
   ]
  },
  {
   "cell_type": "code",
   "execution_count": 62,
   "metadata": {},
   "outputs": [
    {
     "data": {
      "text/plain": [
       "1000"
      ]
     },
     "execution_count": 62,
     "metadata": {},
     "output_type": "execute_result"
    }
   ],
   "source": [
    "len(all_book_desc)"
   ]
  },
  {
   "cell_type": "markdown",
   "metadata": {},
   "source": [
    "## Part 4"
   ]
  },
  {
   "cell_type": "markdown",
   "metadata": {},
   "source": [
    "#### a)\tHow\tmany\tbooks\thave\ta\tnumeric\tcharacter\tin\ttitle?\n",
    "  Answer: 365"
   ]
  },
  {
   "cell_type": "code",
   "execution_count": 63,
   "metadata": {},
   "outputs": [],
   "source": [
    "digit_count_list = []"
   ]
  },
  {
   "cell_type": "code",
   "execution_count": 64,
   "metadata": {},
   "outputs": [],
   "source": [
    "for title in all_books_xpath:\n",
    "    nums = re.findall('\\d*', title)\n",
    "    for num in nums:\n",
    "        if len(num) > 0:\n",
    "            digit_count_list.append(title)"
   ]
  },
  {
   "cell_type": "code",
   "execution_count": 65,
   "metadata": {},
   "outputs": [
    {
     "name": "stdout",
     "output_type": "stream",
     "text": [
      "365\n",
      "468\n"
     ]
    }
   ],
   "source": [
    "print(len(set(digit_count_list))) # Number of book titles containing numeric characters\n",
    "print(len(digit_count_list)) # Amount of numbers in all titles"
   ]
  },
  {
   "cell_type": "markdown",
   "metadata": {},
   "source": [
    "#### b)\tHow\tmany\tbooks\thave\ta\tyear\tin\ttitle?\n",
    "Answer: 8"
   ]
  },
  {
   "cell_type": "code",
   "execution_count": 66,
   "metadata": {},
   "outputs": [],
   "source": [
    "books = []"
   ]
  },
  {
   "cell_type": "code",
   "execution_count": 67,
   "metadata": {},
   "outputs": [],
   "source": [
    "for book in all_books_xpath:\n",
    "    year = re.findall('\\d\\d\\d\\d', book)\n",
    "    for i in year:\n",
    "        if len(i) == 4:\n",
    "            books.append(book)"
   ]
  },
  {
   "cell_type": "code",
   "execution_count": 68,
   "metadata": {
    "scrolled": true
   },
   "outputs": [
    {
     "name": "stdout",
     "output_type": "stream",
     "text": [
      "8\n",
      "12\n"
     ]
    },
    {
     "data": {
      "text/plain": [
       "['The Boys in the Boat: Nine Americans and Their Epic Quest for Gold at the 1936 Berlin Olympics',\n",
       " 'Our Band Could Be Your Life: Scenes from the American Indie Underground, 1981-1991',\n",
       " 'Our Band Could Be Your Life: Scenes from the American Indie Underground, 1981-1991',\n",
       " 'Mesaerion: The Best Science Fiction Stories 1800-1849',\n",
       " 'Mesaerion: The Best Science Fiction Stories 1800-1849',\n",
       " 'Maude (1883-1993):She Grew Up with the country',\n",
       " 'Maude (1883-1993):She Grew Up with the country',\n",
       " 'Untitled Collection: Sabbath Poems 2014',\n",
       " 'Tuesday Nights in 1980',\n",
       " '1491: New Revelations of the Americas Before Columbus',\n",
       " 'Ms. Marvel, Vol. 1: No Normal (Ms. Marvel (2014-2015) #1)',\n",
       " 'Ms. Marvel, Vol. 1: No Normal (Ms. Marvel (2014-2015) #1)']"
      ]
     },
     "execution_count": 68,
     "metadata": {},
     "output_type": "execute_result"
    }
   ],
   "source": [
    "print(len(set(books))) # Number of titles that contain year numbers\n",
    "print(len(books)) # Total number of year numbers in the titles\n",
    "\n",
    "books"
   ]
  },
  {
   "cell_type": "markdown",
   "metadata": {},
   "source": [
    "Because there are 4 titles that contain 2 year numbers"
   ]
  },
  {
   "cell_type": "markdown",
   "metadata": {},
   "source": [
    "#### c)\tHow\tmany\tbooks\thave\tan\tenumerated\tcharacter\t(starting\twith\t#\tand\t followed\tby\ta\tnumber)\tin\ttitle?\n",
    "Answer: 313"
   ]
  },
  {
   "cell_type": "code",
   "execution_count": 69,
   "metadata": {},
   "outputs": [],
   "source": [
    "enumeration_count_list = []"
   ]
  },
  {
   "cell_type": "code",
   "execution_count": 70,
   "metadata": {},
   "outputs": [],
   "source": [
    "for title in all_books_xpath:\n",
    "    hashs = re.findall('\\#\\d+', title)\n",
    "    for h in hashs:\n",
    "        if len(h) >= 2:\n",
    "            enumeration_count_list.append(title)"
   ]
  },
  {
   "cell_type": "code",
   "execution_count": 71,
   "metadata": {},
   "outputs": [
    {
     "data": {
      "text/plain": [
       "313"
      ]
     },
     "execution_count": 71,
     "metadata": {},
     "output_type": "execute_result"
    }
   ],
   "source": [
    "len(set(enumeration_count_list))"
   ]
  }
 ],
 "metadata": {
  "kernelspec": {
   "display_name": "Python 3",
   "language": "python",
   "name": "python3"
  },
  "language_info": {
   "codemirror_mode": {
    "name": "ipython",
    "version": 3
   },
   "file_extension": ".py",
   "mimetype": "text/x-python",
   "name": "python",
   "nbconvert_exporter": "python",
   "pygments_lexer": "ipython3",
   "version": "3.7.3"
  }
 },
 "nbformat": 4,
 "nbformat_minor": 2
}
